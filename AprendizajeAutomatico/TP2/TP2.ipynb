{
  "nbformat": 4,
  "nbformat_minor": 0,
  "metadata": {
    "colab": {
      "name": "TP2.ipynb",
      "version": "0.3.2",
      "provenance": [],
      "collapsed_sections": [],
      "include_colab_link": true
    },
    "language_info": {
      "codemirror_mode": {
        "name": "ipython",
        "version": 3
      },
      "file_extension": ".py",
      "mimetype": "text/x-python",
      "name": "python",
      "nbconvert_exporter": "python",
      "pygments_lexer": "ipython3",
      "version": "3.7.3"
    },
    "kernelspec": {
      "display_name": "Python 3",
      "language": "python",
      "name": "python3"
    },
    "accelerator": "GPU"
  },
  "cells": [
    {
      "cell_type": "markdown",
      "metadata": {
        "id": "view-in-github",
        "colab_type": "text"
      },
      "source": [
        "<a href=\"https://colab.research.google.com/github/fmejias/CienciasDeLosDatosTEC/blob/master/AprendizajeAutomatico/TP2/TP2.ipynb\" target=\"_parent\"><img src=\"https://colab.research.google.com/assets/colab-badge.svg\" alt=\"Open In Colab\"/></a>"
      ]
    },
    {
      "cell_type": "markdown",
      "metadata": {
        "colab_type": "text",
        "id": "jYQE37rOc539"
      },
      "source": [
        "# Ciencias de los Datos:\n",
        "# Aprendizaje automático\n",
        "\n",
        "## Trabajo práctico 2\n",
        "\n",
        "- Professor: M.Sc.Saul Calderon.\n",
        "\n",
        "- Students: \n",
        "    - Felipe Alberto Mejías Loría, Instituto Tecnológico de Costa Rica. \n",
        "    - María Auxiliadora Mora, Instituto Tecnológico de Costa Rica  \n",
        "\n",
        "- July 28th, 2019   "
      ]
    },
    {
      "cell_type": "code",
      "metadata": {
        "scrolled": true,
        "id": "icD1qk5J1X97",
        "colab_type": "code",
        "colab": {}
      },
      "source": [
        "# Libraries required for the exercises\n",
        "from __future__ import print_function\n",
        "import argparse\n",
        "import torch\n",
        "import torch.nn as nn\n",
        "import torch.nn.functional as F\n",
        "import torch.optim as optim\n",
        "import numpy as np;\n",
        "import pandas as pandas;\n",
        "from scipy import ndimage\n",
        "from torchvision import datasets, transforms\n",
        "from torch.distributions import normal\n",
        "from torch.distributions import multivariate_normal\n",
        "import matplotlib.pyplot as plt\n",
        "\n",
        "from PIL import Image\n",
        "from sklearn.model_selection import train_test_split as tts"
      ],
      "execution_count": 0,
      "outputs": []
    },
    {
      "cell_type": "markdown",
      "metadata": {
        "id": "DmtrE13k1X-A",
        "colab_type": "text"
      },
      "source": [
        "## 1. Implementación de clasificadores lineales de dos clases. (40 puntos)"
      ]
    },
    {
      "cell_type": "code",
      "metadata": {
        "scrolled": true,
        "id": "nATbLnUj1X-B",
        "colab_type": "code",
        "outputId": "ac04e99b-1e9e-4b37-85f2-fa097dff7f16",
        "colab": {
          "base_uri": "https://localhost:8080/",
          "height": 1000
        }
      },
      "source": [
        "def createData(numberSamplesPerClass = 2, mean1 = [2, 2], mean2 = [6, 6], stds1 = [3, 3], stds2 = [2, 1]):\n",
        "    \"\"\"\n",
        "    Creates the data to be used for training, using a GMM distribution\n",
        "    @param numberSamplesPerClass, the number of samples per class\n",
        "    @param mean1, means for samples from the class 1\n",
        "    @param mean2, means for samples from the class 2\n",
        "    @param stds1, standard deviation for samples, class 1\n",
        "    @param stds2, standard deviation for samples, class 2\n",
        "    \"\"\"\n",
        "    means = torch.zeros(2)\n",
        "\n",
        "    # Ones to concatenate for bias\n",
        "    ones = torch.ones(numberSamplesPerClass, 1)\n",
        "    means[0] = mean1[0]\n",
        "    means[1] = mean1[1]\n",
        "\n",
        "    # Covariance matrix creation with identity\n",
        "    covarianceMatrix = torch.eye(2)\n",
        "    covarianceMatrix[0, 0] = stds1[0]\n",
        "    covarianceMatrix[1, 1] = stds1[1]\n",
        "        \n",
        "    samplesClass1 = createDataOneClass(means, covarianceMatrix, numberSamplesPerClass)\n",
        "\n",
        "    means[0] = mean2[0]\n",
        "    means[1] = mean2[1]\n",
        "    covarianceMatrix[0, 0] = stds2[0]\n",
        "    covarianceMatrix[1, 1] = stds2[1]\n",
        "    samplesClass2 = createDataOneClass(means, covarianceMatrix, numberSamplesPerClass)\n",
        "    \n",
        "    # Concatenates the ones for the bias\n",
        "    samplesClass1Bias = torch.cat((ones, samplesClass1), 1)\n",
        "    samplesClass2Bias = torch.cat((ones, samplesClass2), 1)\n",
        "    samplesAll = torch.cat((samplesClass1, samplesClass2), 0)\n",
        "    \n",
        "    plt.scatter(samplesClass1[:, 0], samplesClass1[:, 1], marker='^', c='blue')\n",
        "    plt.scatter(samplesClass2[:, 0], samplesClass2[:, 1], marker='o', c='orange')\n",
        "\n",
        "    plt.show()\n",
        "    \n",
        "    # Create samples with bias\n",
        "    samplesAllBias = torch.cat((samplesClass1Bias, samplesClass2Bias), 0)\n",
        "    \n",
        "    #Create targets\n",
        "    targetsClass1 = torch.ones(numberSamplesPerClass, 1)\n",
        "    targetsClass2 = 0 * torch.ones(numberSamplesPerClass, 1)\n",
        "    targetsAll = torch.cat((targetsClass1, targetsClass2), 0)\n",
        "    \n",
        "    return (targetsAll, samplesAllBias)\n",
        "\n",
        "\n",
        "def createDataOneClass(means, covarianceMatrix, numberSamples):\n",
        "    \"\"\"\n",
        "    Creates data with gaussian distribution\n",
        "    \"\"\"\n",
        "    multiGaussGenerator = multivariate_normal.MultivariateNormal(means, covarianceMatrix)\n",
        "    samples = multiGaussGenerator.sample(torch.Size([numberSamples]))\n",
        "    return samples\n",
        "\n",
        "def sigmoid(x):\n",
        "    \"\"\"\n",
        "    Sigmoid activation function\n",
        "    \"\"\"\n",
        "    return 1/(1+np.exp(-x))\n",
        "\n",
        "def forward(samples, w, threshold=0.5, lowerLimit = 0, upperLimit = 1):\n",
        "    \"\"\"\n",
        "    Get model output.\n",
        "    param samples: samples used to estimated targets. \n",
        "    param w: network's weights. \n",
        "    param threshold: neuron's threshold of the transfer function.\n",
        "    param lowerLimit: lower limit of the transfer function.\n",
        "    param upperLimit: upper limit of the transfer function.\n",
        "    return: Estimates the model outputs using the sigmoid activation function with values of lowerLimit and upperLimit.   \n",
        "    \"\"\"\n",
        "\n",
        "    # Define vectorize sigmoid to apply to m*w\n",
        "    vectorize_sigmoid = np.vectorize(sigmoid)\n",
        "    EstimatedTargets = samples.mm(w)\n",
        "    \n",
        "    # Apply sigmoid function to m*w\n",
        "    EstimatedTargets = torch.from_numpy(vectorize_sigmoid(EstimatedTargets.numpy())).type(torch.FloatTensor)\n",
        "    \n",
        "    # Classify predictions\n",
        "    EstimatedTargets[EstimatedTargets>threshold] = upperLimit\n",
        "    EstimatedTargets[EstimatedTargets<=threshold] = lowerLimit\n",
        "    \n",
        "    return EstimatedTargets\n",
        "\n",
        "def vectorTransposed(w):\n",
        "    \"\"\"\n",
        "    Calculate the transposed of a vector.\n",
        "    return: the transposed vector.   \n",
        "    \"\"\"\n",
        "    w2Drow = w.reshape(-1, w.shape[0])\n",
        "    return w2Drow.transpose(0, 1)  \n",
        "\n",
        "def calculateError(targets, estimated_targets):\n",
        "    \"\"\"\n",
        "    Calculate the cost using the versimilitude error. \n",
        "    \"\"\"\n",
        "    cost = ((targets*torch.log((estimated_targets+0.1e-5))) + (1-targets)*torch.log((1-estimated_targets + 0.1e-5)))\n",
        "    return -torch.sum(cost)\n",
        "\n",
        "def train_model(samples, targets, epochs=10):\n",
        "   \"\"\"\n",
        "   Train the logistic regression model adjusting the neural network's weights.\n",
        "   param samples: Conjunction of entries\n",
        "   param targets: Types of clases (Class 1 and Class 2)\n",
        "   param epochs: number of training cycles.\n",
        "   return: updated weights   \n",
        "   \"\"\"\n",
        "\n",
        "   def updateDeltaWeight(samples, targets_transpose, estimated_targets_transpose, wT, alpha=0.1):\n",
        "      \"\"\"\n",
        "      Estimate delta weight using stochastic gradient descent\n",
        "      param SamplesAllBias: NumSamples x NumDimensions \n",
        "      param TargetsAllT: NumSamples' clases \n",
        "      param EstimatedTargetsAllT: estimated clases\n",
        "      param wT: previous weights\n",
        "      param eta: learning rate\n",
        "      \n",
        "      return: updated weights.   \n",
        "      \"\"\"\n",
        "      samples_transpose = samples.transpose(0, 1)    \n",
        "      return wT + alpha * samples_transpose.mm(targets_transpose - estimated_targets_transpose)\n",
        "   \n",
        "\n",
        "   # Generate random weights\n",
        "   samples_dimensions = samples.size()\n",
        "   w = torch.ones(samples_dimensions[1],1)\n",
        "   wT = vectorTransposed(w)\n",
        "\n",
        "   # Calculate Targets transpose \n",
        "   targets_transpose = vectorTransposed(targets)\n",
        "\n",
        "   # Train during n epochs\n",
        "   for epoch in range(epochs):\n",
        "       # Calculate predictions (estimated targets)\n",
        "       estimated_targets_transpose = vectorTransposed(forward(samples, wT))\n",
        "       \n",
        "       # Calculate error\n",
        "       error  = calculateError(targets_transpose, estimated_targets_transpose)\n",
        "       print('>epoch=%d, cost=%.3f' % (epoch, error))\n",
        "        \n",
        "       if error > 0.1e-5 :  \n",
        "          # Update weights \n",
        "          wT = updateDeltaWeight(samples, targets_transpose, estimated_targets_transpose, wT)\n",
        "\n",
        "       epoch = epoch + 1\n",
        "\n",
        "   return wT\n",
        "\n",
        "\n",
        "# Test the logistic regression model  \n",
        "def logistic_regression(samples, targets, epochs = 50, test_size = 0.3):    \n",
        "\n",
        "    # Define the set of training samples as 70% (randomly selected) and test samples as 30%.\n",
        "    X_train, X_test, Y_train, Y_test = tts(samples.numpy(), targets.numpy(), test_size = test_size)\n",
        "\n",
        "    # Train the logistic regression model\n",
        "    wF = train_model(torch.tensor(X_train), torch.tensor(Y_train), epochs=epochs)\n",
        "\n",
        "    # Test the trained logistic regression model\n",
        "    Estimated_Y = forward(torch.tensor(X_test), wF)\n",
        "\n",
        "    # Calculate error\n",
        "    testError = calculateError(torch.tensor(Y_test), Estimated_Y )\n",
        "    print(\"Error total para el conjunto de muestras:\", testError)\n",
        "    return testError\n",
        "\n",
        "\n",
        "def test_logistic_regression():\n",
        "    (targets, samples) = createData(numberSamplesPerClass = 1000, mean2 = [13, 13])\n",
        "    finalError = logistic_regression(samples, targets, epochs = 50, test_size = 0.3)\n",
        "    \n",
        "\n",
        "test_logistic_regression()"
      ],
      "execution_count": 85,
      "outputs": [
        {
          "output_type": "display_data",
          "data": {
            "image/png": "[encoded data removed]",
            "text/plain": [
              "<Figure size 432x288 with 1 Axes>"
            ]
          },
          "metadata": {
            "tags": []
          }
        },
        {
          "output_type": "stream",
          "text": [
            ">epoch=0, cost=9560.333\n",
            ">epoch=1, cost=9518.887\n",
            ">epoch=2, cost=9505.071\n",
            ">epoch=3, cost=9435.993\n",
            ">epoch=4, cost=9325.470\n",
            ">epoch=5, cost=9049.159\n",
            ">epoch=6, cost=8303.121\n",
            ">epoch=7, cost=151.969\n",
            ">epoch=8, cost=13.814\n",
            ">epoch=9, cost=13.814\n",
            ">epoch=10, cost=13.814\n",
            ">epoch=11, cost=-0.001\n",
            ">epoch=12, cost=-0.001\n",
            ">epoch=13, cost=-0.001\n",
            ">epoch=14, cost=-0.001\n",
            ">epoch=15, cost=-0.001\n",
            ">epoch=16, cost=-0.001\n",
            ">epoch=17, cost=-0.001\n",
            ">epoch=18, cost=-0.001\n",
            ">epoch=19, cost=-0.001\n",
            ">epoch=20, cost=-0.001\n",
            ">epoch=21, cost=-0.001\n",
            ">epoch=22, cost=-0.001\n",
            ">epoch=23, cost=-0.001\n",
            ">epoch=24, cost=-0.001\n",
            ">epoch=25, cost=-0.001\n",
            ">epoch=26, cost=-0.001\n",
            ">epoch=27, cost=-0.001\n",
            ">epoch=28, cost=-0.001\n",
            ">epoch=29, cost=-0.001\n",
            ">epoch=30, cost=-0.001\n",
            ">epoch=31, cost=-0.001\n",
            ">epoch=32, cost=-0.001\n",
            ">epoch=33, cost=-0.001\n",
            ">epoch=34, cost=-0.001\n",
            ">epoch=35, cost=-0.001\n",
            ">epoch=36, cost=-0.001\n",
            ">epoch=37, cost=-0.001\n",
            ">epoch=38, cost=-0.001\n",
            ">epoch=39, cost=-0.001\n",
            ">epoch=40, cost=-0.001\n",
            ">epoch=41, cost=-0.001\n",
            ">epoch=42, cost=-0.001\n",
            ">epoch=43, cost=-0.001\n",
            ">epoch=44, cost=-0.001\n",
            ">epoch=45, cost=-0.001\n",
            ">epoch=46, cost=-0.001\n",
            ">epoch=47, cost=-0.001\n",
            ">epoch=48, cost=-0.001\n",
            ">epoch=49, cost=-0.001\n",
            "Error total para el conjunto de muestras: tensor(-0.0006)\n"
          ],
          "name": "stdout"
        },
        {
          "output_type": "stream",
          "text": [
            "/usr/local/lib/python3.6/dist-packages/ipykernel_launcher.py:63: RuntimeWarning: overflow encountered in exp\n"
          ],
          "name": "stderr"
        }
      ]
    },
    {
      "cell_type": "markdown",
      "metadata": {
        "id": "k4_0StWNvNvd",
        "colab_type": "text"
      },
      "source": [
        "#¿Cuál de las funciones matemáticas vistas en clase puede utilizarse a la salida del regresor logístico para realizar una clasificación binaria?\n",
        "Se puede utilizar la función sigmoidal ya es una función suave y continua acotada entre 0 y 1.\n",
        "\n",
        "\n"
      ]
    },
    {
      "cell_type": "markdown",
      "metadata": {
        "id": "CBEC7XcD1X-F",
        "colab_type": "text"
      },
      "source": [
        "## 2. Experimentos, análisis y el enfoque de mínimos cuadrados regularizado. (60 puntos)"
      ]
    },
    {
      "cell_type": "code",
      "metadata": {
        "id": "I4dNnNxk1X-F",
        "colab_type": "code",
        "outputId": "0a66f0f1-9bee-41b4-abf3-788dfd3d1711",
        "colab": {
          "base_uri": "https://localhost:8080/",
          "height": 773
        }
      },
      "source": [
        "\"\"\"\n",
        "Creates the observation array t, from a sinusoidal wave\n",
        "@param x, the x values \n",
        "@param stdNoise, standard d\n",
        "eviation of noise, hihger, lower signal to noise ratio\n",
        "@return (t, yReal), the observed values and the original signal without noise\n",
        "\"\"\"                 \n",
        "def generate_signal(x, stdNoise=0.1):\n",
        "    yReal = np.sin(2* np.pi * x);\n",
        "    # Create noise\n",
        "    noise = np.random.normal(0, stdNoise, yReal.shape);\n",
        "    # Additive gaussian noise                        \n",
        "    t = yReal + noise;\n",
        "    return (t, yReal);\n",
        "  \n",
        "def generate_x_values(n=10):\n",
        "    maximum_value = 1\n",
        "    x = np.arange(0, maximum_value, 1/(n/maximum_value));   \n",
        "    # x = np.concatenate((x, np.array([maximum_value])));\n",
        "    return x\n",
        "  \n",
        "def plotSignal(x, y):\n",
        "    # Scatter of the noisy signal\n",
        "    plt.scatter(x, y);\n",
        "    plt.show()\n",
        "    \n",
        "def power_matrixA_data(x, degree):\n",
        "    x_power = np.power(x, degree)\n",
        "    return np.sum(x_power)\n",
        "  \n",
        "def power_matrixB_data(x, t, degree):\n",
        "    x_power = np.power(x, degree)\n",
        "    multiply_factor = np.multiply(x_power, t)\n",
        "    return np.sum(multiply_factor)\n",
        "    \n",
        "def getOptimumWReg(x, t, M=3, lambdaF=0.5):\n",
        "    # Create base matrix A\n",
        "    A = np.ones((M+1, M+1))\n",
        "    for i in range(0, M+1):\n",
        "      for j in range(0, M+1):\n",
        "        A[i][j] = power_matrixA_data(x, i + j)\n",
        "    \n",
        "    # Create matrix B\n",
        "    B = torch.ones(M+1, 1)\n",
        "    B = B.numpy()\n",
        "    for i in range(0, M+1):\n",
        "      B[i] = power_matrixB_data(x, t, i)\n",
        "      \n",
        "    # Translate as Torch Tensor\n",
        "    A = torch.from_numpy(A).type(torch.FloatTensor)\n",
        "    B = torch.from_numpy(B)\n",
        "    \n",
        "    return A.inverse().mm(B);\n",
        "\n",
        "def plot_fit(x, wOpt, N, M):\n",
        "    y = np.zeros(N)\n",
        "    w = wOpt.transpose(0, 1)\n",
        "    w = w.numpy()[0]\n",
        "\n",
        "    for i in range(0, N):\n",
        "      sum_value = 0\n",
        "      for j in range(0, M+1):\n",
        "        sum_value += w[j]*(x[i]**j)\n",
        "      y[i] = sum_value\n",
        "      \n",
        "    plt.scatter(x, y);\n",
        "    plt.show()\n",
        "\n",
        "def test_exercise2():\n",
        "    # Dataset 1\n",
        "    x1 = generate_x_values(n=10)\n",
        "    (t1, yReal) = generate_signal(x1);\n",
        "    plotSignal(x1, t1)\n",
        "    \n",
        "    # Dataset 2\n",
        "    x2 = generate_x_values(n=100)\n",
        "    (t2, yReal) = generate_signal(x2);\n",
        "    plotSignal(x2, t2)\n",
        "    \n",
        "    # Get optimum value\n",
        "    wOpt = getOptimumWReg(x1, t1, M=3, lambdaF=0.5)\n",
        "    \n",
        "    # Plot Fit Y Estimated\n",
        "    plot_fit(x1, wOpt, N=10, M=3)\n",
        "    \n",
        "    \n",
        "test_exercise2()"
      ],
      "execution_count": 141,
      "outputs": [
        {
          "output_type": "display_data",
          "data": {
            "image/png": "[encoded data removed]",
            "text/plain": [
              "<Figure size 432x288 with 1 Axes>"
            ]
          },
          "metadata": {
            "tags": []
          }
        },
        {
          "output_type": "display_data",
          "data": {
            "image/png": "[encoded data removed]",
            "text/plain": [
              "<Figure size 432x288 with 1 Axes>"
            ]
          },
          "metadata": {
            "tags": []
          }
        },
        {
          "output_type": "display_data",
          "data": {
            "image/png": "[encoded data removed]",
            "text/plain": [
              "<Figure size 432x288 with 1 Axes>"
            ]
          },
          "metadata": {
            "tags": []
          }
        }
      ]
    }
  ]
}