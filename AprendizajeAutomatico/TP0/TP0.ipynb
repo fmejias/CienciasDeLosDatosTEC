{
  "nbformat": 4,
  "nbformat_minor": 0,
  "metadata": {
    "colab": {
      "name": "TP0.ipynb",
      "version": "0.3.2",
      "provenance": [],
      "collapsed_sections": [],
      "include_colab_link": true
    },
    "language_info": {
      "codemirror_mode": {
        "name": "ipython",
        "version": 3
      },
      "file_extension": ".py",
      "mimetype": "text/x-python",
      "name": "python",
      "nbconvert_exporter": "python",
      "pygments_lexer": "ipython3",
      "version": "3.5.6"
    },
    "kernelspec": {
      "display_name": "Python 3",
      "language": "python",
      "name": "python3"
    },
    "accelerator": "GPU"
  },
  "cells": [
    {
      "cell_type": "markdown",
      "metadata": {
        "id": "view-in-github",
        "colab_type": "text"
      },
      "source": [
        "<a href=\"https://colab.research.google.com/github/fmejias/CienciasDeLosDatosTEC/blob/master/AprendizajeAutomatico/TP0/TP0.ipynb\" target=\"_parent\"><img src=\"https://colab.research.google.com/assets/colab-badge.svg\" alt=\"Open In Colab\"/></a>"
      ]
    },
    {
      "cell_type": "markdown",
      "metadata": {
        "colab_type": "text",
        "id": "jYQE37rOc539"
      },
      "source": [
        "# Aprendizaje Automático\n",
        "# Trabajo práctico 0\n",
        "\n",
        "- Professor: M.Sc.Saul Calderon.\n",
        "\n",
        "- Students: \n",
        "    - María Auxiliadora Mora, Instituto Tecnológico de Costa Rica  \n",
        "    - Felipe Alberto Mejías Loría, Instituto Tecnológico de Costa Rica. \n",
        "\n",
        "- July 06th, 2019   "
      ]
    },
    {
      "cell_type": "code",
      "metadata": {
        "colab_type": "code",
        "id": "jGgKy32qS_2U",
        "colab": {}
      },
      "source": [
        "# Libraries required for the exercises\n",
        "from __future__ import print_function\n",
        "import torch as torch\n",
        "import numpy as np\n",
        "import random\n",
        "import math\n",
        "from sympy import *\n",
        "\n",
        "import torch.distributions as distrib\n",
        "from mpl_toolkits.mplot3d import Axes3D\n",
        "import matplotlib.pyplot as plt\n",
        "from numpy import linalg as linalg\n",
        "\n",
        "# Pandas library for reading csvs\n",
        "from pandas import read_csv\n",
        "import numpy as np\n",
        "\n",
        "# Scikit binary classification algorithms\n",
        "from sklearn.discriminant_analysis import LinearDiscriminantAnalysis\n",
        "from sklearn.model_selection import KFold\n",
        "from sklearn.model_selection import cross_val_score\n",
        "from sklearn.linear_model import Perceptron\n",
        "from sklearn.model_selection import train_test_split as tts"
      ],
      "execution_count": 0,
      "outputs": []
    },
    {
      "cell_type": "markdown",
      "metadata": {
        "colab_type": "text",
        "id": "8chJbeF0dXmO"
      },
      "source": [
        "# 1) La convolución en una dimensión (100 puntos)\n",
        "\n"
      ]
    },
    {
      "cell_type": "code",
      "metadata": {
        "colab_type": "code",
        "id": "K_SXtYheNn9E",
        "outputId": "c5ae76c9-b6d7-4d4a-c257-3a4b9003b9bf",
        "colab": {
          "base_uri": "https://localhost:8080/",
          "height": 269
        }
      },
      "source": [
        "def oneDimensionConvolution():  \n",
        "  # Exercise 1.a\n",
        "  def plotSpeedSignal():\n",
        "    \"\"\"\n",
        "    Graph the Speed Signal\n",
        "    \"\"\"\n",
        "    # Set CSV Path\n",
        "    speedDatasetPath = 'https://raw.githubusercontent.com/fmejias/CienciasDeLosDatosTEC/master/AprendizajeAutomatico/TP0/speed.csv'\n",
        "    \n",
        "    # Read the dataset from csv\n",
        "    speedDataset = read_csv(speedDatasetPath, header=None)\n",
        "    \n",
        "    # Set number of Samples and Samples Values\n",
        "    numberOfSamples = speedDataset.columns.values\n",
        "    speedValues = speedDataset[0:].values.tolist()[0]\n",
        "    \n",
        "    # Plot\n",
        "    plt.plot(numberOfSamples,speedValues)\n",
        "    plt.show()\n",
        "\n",
        "    \n",
        "  # Plot Speed Signal\n",
        "  plotSpeedSignal()\n",
        "\n",
        "# Test exercise 1\n",
        "oneDimensionConvolution()\n",
        "  \n",
        "  \n",
        " "
      ],
      "execution_count": 53,
      "outputs": [
        {
          "output_type": "display_data",
          "data": {
            "image/png": "[encoded data removed]",
            "text/plain": [
              "<Figure size 432x288 with 1 Axes>"
            ]
          },
          "metadata": {
            "tags": []
          }
        }
      ]
    },
    {
      "cell_type": "markdown",
      "metadata": {
        "colab_type": "text",
        "id": "Tblj2F8swO-6"
      },
      "source": [
        "# 2) La convolución en dos dimensiones (20 puntos)"
      ]
    },
    {
      "cell_type": "code",
      "metadata": {
        "colab_type": "code",
        "id": "EL9t6NiMwO-9",
        "colab": {}
      },
      "source": [
        "def plotLevelCurve(plotPoints, plotFunction1=False, plotFunction2=False):  \n",
        "  # Exercise 1.a\n",
        "  def plot_func1():\n",
        "    \"\"\"\n",
        "    Graph the surface\n",
        "    \"\"\"\n",
        "    def f_a(x,y):\n",
        "      return ((np.power(x-0.7, 2))+(np.power(y-0.5, 2)))\n",
        "\n",
        "    x = np.linspace(0, 1, 100)\n",
        "    y = np.linspace(0, 1, 100)\n",
        "\n",
        "    X, Y = np.meshgrid(x, y)\n",
        "    Z = f_a(X,Y)\n",
        "    \n",
        "    plt.contour(X, Y, Z)\n",
        "    plt.grid(True)\n",
        "    plt.axis('scaled')\n",
        "    \n",
        "    plt.xlabel('x-axis')\n",
        "    plt.ylabel('y-axis')\n",
        "    plt.title('Level curves of the function f(x,y) = (x-0.7)^2 + (y-0.5)^2.')\n",
        "    \n",
        "    plt.scatter(plotPoints[0], plotPoints[1], s=10, c='r', marker='o')\n",
        "      \n",
        "\n",
        "    plt.show()\n",
        "    \n",
        "  def plot_func2():\n",
        "    \"\"\"\n",
        "    Graph the surface\n",
        "    \"\"\"\n",
        "    def f_b(x,y):\n",
        "      exp = -np.power(x, 2)-np.power(y, 2)\n",
        "      return x*(np.power(2.71828, exp))\n",
        "\n",
        "    x = np.linspace(0, 1, 100)\n",
        "    y = np.linspace(0, 1, 100)\n",
        "\n",
        "    X, Y = np.meshgrid(x, y)\n",
        "    Z = f_b(X,Y)\n",
        "    \n",
        "    plt.contour(X, Y, Z)\n",
        "    plt.grid(True)\n",
        "    plt.axis('scaled')\n",
        "    \n",
        "    plt.xlabel('x-axis')\n",
        "    plt.ylabel('y-axis')\n",
        "    plt.title('Level curves of the function f(x,y) = x(e)^(-x^2 - y^2)')\n",
        "    \n",
        "    plt.scatter(plotPoints[0], plotPoints[1], s=10, c='r', marker='o')\n",
        "      \n",
        "\n",
        "    plt.show()\n",
        "    \n",
        "  # Plot both functions\n",
        "  if plotFunction1:\n",
        "    plot_func1()\n",
        "  if plotFunction2:\n",
        "    plot_func2()\n",
        "\n",
        "def funct1():\n",
        "  x = Symbol('x')\n",
        "  y = Symbol('y')\n",
        "  return (x-0.7)**2 + (y-0.5)**2\n",
        "\n",
        "def funct2():\n",
        "  x = Symbol('x')\n",
        "  y = Symbol('y')\n",
        "  return x * ((N(E))**(-x**2 -y**2))\n",
        "\n",
        "def gradient_descent(function, previousX, previousY, run=0, plotFunction1=False, plotFunction2=False, alpha = 0.1):\n",
        "  x = Symbol('x')\n",
        "  y = Symbol('y')\n",
        "  \n",
        "  # First partial derivative with respect to x\n",
        "  fdx = function.diff(x)\n",
        "\n",
        "  # First partial derivative with respect to y\n",
        "  fdy = function.diff(y)\n",
        "  \n",
        "  # Initialize Parameters\n",
        "  iterations = 0\n",
        "  precision = 1/1000000\n",
        "  maximumIterations = 1000\n",
        "  testedPointsX = []\n",
        "  testedPointsY = []\n",
        "  \n",
        "  # Print base values\n",
        "  print('Resultado para la corrida = %d' % run)\n",
        "  print('Function = %s' % function)\n",
        "  print('Initial Point in X(x0) = %f' % (previousX))\n",
        "  print('Initial Point in Y(y0) = %f' % (previousY))\n",
        "  \n",
        "  \n",
        "  while True:\n",
        "    gradientX = N(fdx.subs(x, previousX).subs(y, previousY)).evalf()\n",
        "    gradientY = N(fdy.subs(y, previousY)).subs(x, previousX).evalf()\n",
        "    currentX  = previousX - alpha * gradientX\n",
        "    currentY  = previousY - alpha * gradientY\n",
        "    \n",
        "    # Append plot points\n",
        "    testedPointsX.append(currentX)\n",
        "    testedPointsY.append(currentY)\n",
        "\n",
        "    # Stop the loop due to so many iterations\n",
        "    iterations += 1\n",
        "    if iterations > maximumIterations:\n",
        "      print(\"Too many iterations\\n\")\n",
        "      break\n",
        "\n",
        "    if abs(currentX - previousX) <= precision and abs(currentY - previousY) <= precision:\n",
        "      print('Number of iterations = %d' % (iterations))\n",
        "      print('Minimum value found in X(x0) = %f' % (currentX))\n",
        "      print('Minimum value found in Y(y0) = %f' % (currentY))\n",
        "      if function == funct1():\n",
        "        print('Correct value in X(x0) = 0.7')\n",
        "        print('Correct value in Y(y0) = 0.5\\n')\n",
        "      if function == funct2():\n",
        "        print('Correct value in X(x0) = 0.707')\n",
        "        print('Correct value in Y(y0) = 0.0\\n')\n",
        "      \n",
        "      # Plot surface \n",
        "      plotLevelCurve([testedPointsX, testedPointsY], plotFunction1, plotFunction2)\n",
        "      break\n",
        "\n",
        "    # Update x and y parameters\n",
        "    previousX = currentX\n",
        "    previousY = currentY\n",
        "    \n",
        "  \n",
        "    \n",
        "# Test gradient descent for Function 1\n",
        "print(\"-----------------------------------------------\")\n",
        "print(\"Gradient Descent for Function 1\")\n",
        "gradient_descent(funct1(), previousX = 3, previousY = 3, run=1)\n",
        "gradient_descent(funct1(), previousX = 2, previousY = 2, run=2)\n",
        "gradient_descent(funct1(), previousX = 1, previousY = 1, run=3)\n",
        "gradient_descent(funct1(), previousX = 0, previousY = 0, run=4)\n",
        "gradient_descent(funct1(), previousX = -1, previousY = -1, run=5)\n",
        "gradient_descent(funct1(), previousX = -2, previousY = -2, run=6)\n",
        "gradient_descent(funct1(), previousX = -3, previousY = -3, run=7)\n",
        "gradient_descent(funct1(), previousX = 1.3, previousY = 1.3, run=8)\n",
        "gradient_descent(funct1(), previousX = 0.3, previousY = 0.3, run=9)\n",
        "gradient_descent(funct1(), previousX = 0.4, previousY = 0.4, run=10, plotFunction1=True)\n",
        "\n",
        "# Test gradient descent for Function 2\n",
        "print(\"-----------------------------------------------\")\n",
        "print(\"Gradient Descent for Function 2\")\n",
        "gradient_descent(funct2(), previousX = 1.3, previousY = 1.3, run=1)\n",
        "gradient_descent(funct2(), previousX = 2, previousY = 2, run=2)\n",
        "gradient_descent(funct2(), previousX = 1, previousY = 1, run=3)\n",
        "gradient_descent(funct2(), previousX = 0, previousY = 0, run=4)\n",
        "gradient_descent(funct2(), previousX = -1, previousY = -1, run=5)\n",
        "gradient_descent(funct2(), previousX = -2, previousY = -2, run=6)\n",
        "gradient_descent(funct2(), previousX = -1.4, previousY = -1.4, run=7)\n",
        "gradient_descent(funct2(), previousX = 1.3, previousY = 1.3, run=8)\n",
        "gradient_descent(funct2(), previousX = 0.3, previousY = 0.3, run=9)\n",
        "gradient_descent(funct2(), previousX = 0.4, previousY = 0.4, run=10, plotFunction2=True)\n"
      ],
      "execution_count": 0,
      "outputs": []
    }
  ]
}