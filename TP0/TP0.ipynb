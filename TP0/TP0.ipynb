{
  "nbformat": 4,
  "nbformat_minor": 0,
  "metadata": {
    "colab": {
      "name": "TP0.ipynb",
      "version": "0.3.2",
      "provenance": [],
      "collapsed_sections": [
        "Tblj2F8swO-6"
      ],
      "include_colab_link": true
    },
    "language_info": {
      "codemirror_mode": {
        "name": "ipython",
        "version": 3
      },
      "file_extension": ".py",
      "mimetype": "text/x-python",
      "name": "python",
      "nbconvert_exporter": "python",
      "pygments_lexer": "ipython3",
      "version": "3.5.6"
    },
    "kernelspec": {
      "display_name": "Python 3",
      "language": "python",
      "name": "python3"
    },
    "accelerator": "GPU"
  },
  "cells": [
    {
      "cell_type": "markdown",
      "metadata": {
        "id": "view-in-github",
        "colab_type": "text"
      },
      "source": [
        "<a href=\"https://colab.research.google.com/github/fmejias/CienciasDeLosDatosTEC/blob/master/TP0/TP0.ipynb\" target=\"_parent\"><img src=\"https://colab.research.google.com/assets/colab-badge.svg\" alt=\"Open In Colab\"/></a>"
      ]
    },
    {
      "cell_type": "markdown",
      "metadata": {
        "colab_type": "text",
        "id": "jYQE37rOc539"
      },
      "source": [
        "# Matemáticas para Ciencias de los Datos:\n",
        "# Trabajo práctico 0\n",
        "\n",
        "- Professor: M.Sc.Saul Calderon.\n",
        "\n",
        "- Students: \n",
        "    - María Auxiliadora Mora, Instituto Tecnológico de Costa Rica  \n",
        "    - Felipe Alberto Mejías Loría, Instituto Tecnológico de Costa Rica. \n",
        "\n",
        "- May 15th, 2019   "
      ]
    },
    {
      "cell_type": "markdown",
      "metadata": {
        "colab_type": "text",
        "id": "8chJbeF0dXmO"
      },
      "source": [
        "# 1) Sistemas lineales (20 puntos)\n",
        "Scaling \n",
        "$$\n",
        " L\\{\\alpha f(x)\\}= \\alpha L\\{f(x)\\}\n",
        "$$\n",
        "Superposition\n",
        "$$\n",
        " L\\{f_1(x)+f_2(x)\\}= L\\{f_1(x)\\}+L\\{f_2(x)\\}\n",
        "$$\n",
        "\n",
        "An operator $L\\{\\cdot\\}$ with input functions $f$ with input variable $x \\in \\mathbb{R}$, with $\\alpha, \\beta \\in \\mathbb{R}$, define  a lineal system if:\n",
        "\n",
        "$$\n",
        " L\\{\\alpha f_1(x)+\\beta f_2(x)\\}= \\alpha L\\{f_1(x)\\}+\\beta L\\{f_2(x)\\}\n",
        "$$"
      ]
    },
    {
      "cell_type": "markdown",
      "metadata": {
        "id": "HVV0dtPKwO-Z",
        "colab_type": "text"
      },
      "source": [
        "# Exercise 1.1"
      ]
    },
    {
      "cell_type": "code",
      "metadata": {
        "id": "ZdPXDBBSwO-a",
        "colab_type": "code",
        "colab": {}
      },
      "source": [
        "# Libraries required for the exercises\n",
        "import torch as torch\n",
        "from torch.autograd import Variable\n",
        "\n",
        "import numpy as np\n",
        "from matplotlib import pyplot as plt\n",
        "from mpl_toolkits.mplot3d import Axes3D\n",
        "from matplotlib import cm"
      ],
      "execution_count": 0,
      "outputs": []
    },
    {
      "cell_type": "code",
      "metadata": {
        "colab_type": "code",
        "id": "iyuBQcxGdXmP",
        "colab": {}
      },
      "source": [
        "# Operators definition. \n",
        "\n",
        "def linealFunction(x, h):\n",
        "  \"\"\"\n",
        "  Sample lineal function\n",
        "  param x: input array\n",
        "  return y: x + 2\n",
        "  \"\"\"\n",
        "  y = x + 2\n",
        "  return y;\n",
        "\n",
        "\n",
        "def multiplication(x, h):\n",
        "  \"\"\"\n",
        "  Sample multiplication function\n",
        "  param x: input arrays\n",
        "  param h: any function\n",
        "  return y: x * h\n",
        "  \"\"\"\n",
        "  y = x * h\n",
        "\n",
        "  return y;\n",
        "\n",
        "\n",
        "def max(x, h):\n",
        "  \"\"\"\n",
        "  Sample max function\n",
        "  param x: input arrays\n",
        "  return y: max(x)\n",
        "  \"\"\"\n",
        "  y = torch.max(x)\n",
        "\n",
        "  return y;\n",
        "\n",
        "\n",
        "def differentiation(x, h):\n",
        "  \"\"\"\n",
        "  OJOJOJOJOJOJO Aun no esta bien! Hay que investigar cómo calcular la derivada.  \n",
        "  Sample differentiation function\n",
        "  param x: input arrays  \n",
        "  return h: grad(x)\n",
        "  \"\"\"\n",
        "  y = x.cos()\n",
        "  y.backward()\n",
        "  h=x.grad\n",
        "  return h;\n",
        "\n",
        "\n",
        "\n",
        "def abs(x, h):\n",
        "  \"\"\"\n",
        "  Sample absolute value function\n",
        "  param x: input arrays\n",
        "  return y: abs(x)\n",
        "  \"\"\"\n",
        "  y = torch.abs(x)\n",
        "\n",
        "  return y;\n"
      ],
      "execution_count": 0,
      "outputs": []
    },
    {
      "cell_type": "code",
      "metadata": {
        "id": "HSlM-A_rwO-l",
        "colab_type": "code",
        "colab": {}
      },
      "source": [
        "# Verification of operators linearity.\n",
        "\n",
        "def checkLinearity(operator, exerc):\n",
        "  \n",
        "  # Create series of random values for exerc 1.1 and 1.2\n",
        "  if exerc == 1:\n",
        "    # Vector definition for exerc 1.1\n",
        "     x = torch.randn(50)\n",
        "  \n",
        "     if operator == 'differentiation':\n",
        "        x = torch.randn(1, requires_grad=True) \n",
        "  elif exerc == 2:\n",
        "     # Matrix definition for exerc 1.2\n",
        "     x = torch.randn(50, 50)\n",
        "\n",
        "  \n",
        "  #sample scalars\n",
        "  alpha = torch.randn(1,1)\n",
        "  beta = torch.randn(1,1)\n",
        "  \n",
        "  #sample functions\n",
        "  f1 = lambda x: x + 2\n",
        "  f2 = lambda x: x * x\n",
        "  h  = lambda x: x + 3\n",
        "  \n",
        "  #compute left and right side of the equation\n",
        "  right = alpha * operator(f1(x), h(x)) + beta * operator(f2(x), h(x))\n",
        "  left = operator(alpha * f1(x) + beta * f2(x), h(x))\n",
        "  \n",
        "  difference = torch.abs(right - left)\n",
        "  \n",
        "  \n",
        "  sumDifference = difference.sum()\n",
        "  #Is linear?\n",
        "  return (sumDifference < 0.0001)\n",
        "  "
      ],
      "execution_count": 0,
      "outputs": []
    },
    {
      "cell_type": "code",
      "metadata": {
        "id": "_J5nufcrwO-o",
        "colab_type": "code",
        "outputId": "bbcc7138-7d8e-4034-acad-6b361217a837",
        "colab": {
          "base_uri": "https://localhost:8080/",
          "height": 87
        }
      },
      "source": [
        "## Test exercise 1.1\n",
        "\n",
        "print(\"a) g (t) = u(t) + 2 \", checkLinearity(linealFunction, 1))\n",
        "\n",
        "print(\"b) g (t) = u(t) h(t) \", checkLinearity(multiplication, 1))\n",
        "\n",
        "print(\"c) g (t) = máx (u(t)) \", checkLinearity(max, 1))\n",
        "\n",
        "# print(\"d) g (t) = u' 0 (t) \", checkLinearity(differentiation, 1))  Aun no funciona.\n",
        "\n",
        "print(\"e) g (t) = |u(t)| \", checkLinearity(abs, 1))\n"
      ],
      "execution_count": 0,
      "outputs": [
        {
          "output_type": "stream",
          "text": [
            "a) g (t) = u(t) + 2  tensor(0, dtype=torch.uint8)\n",
            "b) g (t) = u(t) h(t)  tensor(1, dtype=torch.uint8)\n",
            "c) g (t) = máx (u(t))  tensor(0, dtype=torch.uint8)\n",
            "e) g (t) = |u(t)|  tensor(0, dtype=torch.uint8)\n"
          ],
          "name": "stdout"
        }
      ]
    },
    {
      "cell_type": "markdown",
      "metadata": {
        "colab_type": "text",
        "id": "3uCtcT9FFQ_X"
      },
      "source": [
        "# Exercise 1.2."
      ]
    },
    {
      "cell_type": "code",
      "metadata": {
        "id": "-lOjLOxvwO-t",
        "colab_type": "code",
        "colab": {}
      },
      "source": [
        "# Operators definition. \n",
        "\n",
        "def normL1(x, h):\n",
        "  \"\"\"\n",
        "  Sample l1-norm function\n",
        "  param x: input array\n",
        "  return y: l1-norm of x\n",
        "  \"\"\"\n",
        "  y = torch.norm(x, p=1, dim=None)\n",
        "  return y\n",
        "\n",
        "def normL2(x, h):\n",
        "  \"\"\"\n",
        "  Sample l2-norm function\n",
        "  param x: input array\n",
        "  return y: l2-norm of x\n",
        "  \"\"\"\n",
        "  y = torch.norm(x, p=2, dim=None)\n",
        "  return y\n",
        "\n",
        "def max(x, h):\n",
        "  \"\"\"\n",
        "  Sample infinite-norm function\n",
        "  param x: input array\n",
        "  return y: the maximun absolute value of x\n",
        "  \"\"\"\n",
        "  y = torch.max(x.abs())\n",
        "  return y\n",
        "\n",
        "def multivariableFunction(x, h):\n",
        "  \"\"\"\n",
        "  Sample multivariable function\n",
        "  param x: input arrays\n",
        "  param h: any function\n",
        "  NOTE: b = 2\n",
        "  return y: x * h + b\n",
        "  \"\"\"\n",
        "  y = x * h + 2\n",
        "\n",
        "  return y;"
      ],
      "execution_count": 0,
      "outputs": []
    },
    {
      "cell_type": "code",
      "metadata": {
        "id": "8XvioDOVwO-w",
        "colab_type": "code",
        "outputId": "ed5fb612-cefc-4958-eb6f-4e3d75700079",
        "colab": {
          "base_uri": "https://localhost:8080/",
          "height": 87
        }
      },
      "source": [
        "## Tests exercise 1.2\n",
        "\n",
        "print(\"a) Norma de Manhattan L1: \", checkLinearity(normL1, 2))\n",
        "print(\"b) Norma Euclidiana L2: \", checkLinearity(normL2, 2))\n",
        "print(\"c) Norma L∞: \", checkLinearity(max, 2))\n",
        "print(\"d) Multivariable Function: \", checkLinearity(multivariableFunction, 2))\n",
        "\n"
      ],
      "execution_count": 0,
      "outputs": [
        {
          "output_type": "stream",
          "text": [
            "a) Norma de Manhattan L1:  tensor(0, dtype=torch.uint8)\n",
            "b) Norma Euclidiana L2:  tensor(0, dtype=torch.uint8)\n",
            "c) Norma L∞:  tensor(0, dtype=torch.uint8)\n",
            "d) Multivariable Function:  tensor(0, dtype=torch.uint8)\n"
          ],
          "name": "stdout"
        }
      ]
    },
    {
      "cell_type": "markdown",
      "metadata": {
        "id": "Tblj2F8swO-6",
        "colab_type": "text"
      },
      "source": [
        "# Vectores (20 puntos)\n",
        "a) Usando Python (quiver3) grafique los siguientes vectores "
      ]
    },
    {
      "cell_type": "code",
      "metadata": {
        "id": "EL9t6NiMwO-9",
        "colab_type": "code",
        "outputId": "6b7d7871-9354-47ef-fea3-6dd53730324e",
        "colab": {
          "base_uri": "https://localhost:8080/",
          "height": 249
        }
      },
      "source": [
        "## Tests exercise 2.1.a\n",
        "\n",
        "import matplotlib.pyplot as plt\n",
        "from mpl_toolkits.mplot3d import Axes3D\n",
        "\n",
        "fig = plt.figure()\n",
        "ax = fig.gca(projection='3d')\n",
        "ax.set_xlim3d(-0.8, 1)\n",
        "ax.set_ylim3d(-0.8, 1)\n",
        "ax.set_zlim3d(0, 1)\n",
        "\n",
        "# Set vector1, vector2 and vector3\n",
        "vector1 = ax.quiver(0, 0, 0, -0.3, 0.8, 0.1, length = 1, normalize = True)\n",
        "vector2 = ax.quiver(0, 0, 0, 0.5, 0.2, 0.4, length = 1, normalize = True)\n",
        "vector3 = ax.quiver(0, 0, 0, 1/np.sqrt(2), -1/np.sqrt(2), 0, length = 1, normalize = True)\n",
        "\n",
        "# Plot the three vectors\n",
        "plt.show()"
      ],
      "execution_count": 3,
      "outputs": [
        {
          "output_type": "display_data",
          "data": {
            "image/png": "[encoded data removed]",
            "text/plain": [
              "<Figure size 432x288 with 1 Axes>"
            ]
          },
          "metadata": {
            "tags": []
          }
        }
      ]
    },
    {
      "cell_type": "code",
      "metadata": {
        "id": "DClNnRKJh_9T",
        "colab_type": "code",
        "outputId": "52fa37a4-b7fc-4fa0-8df6-510f9d6bce0d",
        "colab": {
          "base_uri": "https://localhost:8080/",
          "height": 399
        }
      },
      "source": [
        "## Tests exercise 2.1.d\n",
        "\n",
        "def calculateDotProduct(w, v):\n",
        "  \"\"\"\n",
        "  Calculates the dot product between two vectors\n",
        "  param w, vector1\n",
        "  param v, vector2\n",
        "  return dot product\n",
        "  \"\"\"\n",
        "  vectorProduct = w * v\n",
        "  return vectorProduct.sum()\n",
        "\n",
        "def calculateEuclideanNorm(u, v):\n",
        "  \"\"\"\n",
        "  Calculates the euclidean norm between two vectors\n",
        "  param u, vector1\n",
        "  param v, vector2\n",
        "  return norm of a vector\n",
        "  \"\"\"\n",
        "  vectorDifference = u -v\n",
        "  vectorPow = torch.pow(vectorDifference, 2)\n",
        "  summatory = vectorPow.sum()\n",
        "  return torch.sqrt(summatory)\n",
        "\n",
        "def calculateManhattanNorm(u, v):\n",
        "  \"\"\"\n",
        "  Calculates the Manhattan norm between two vectors\n",
        "  param u, vector1\n",
        "  param v, vector2\n",
        "  return norm of a vector\n",
        "  \"\"\"\n",
        "  return torch.sum(torch.abs(u-v))\n",
        "\n",
        "def calculateInfiniteNorm(u, v):\n",
        "  \"\"\"\n",
        "  Calculates the Infinite norm between two vectors\n",
        "  param u, vector1\n",
        "  param v, vector2\n",
        "  return norm of a vector\n",
        "  \"\"\"\n",
        "  return torch.max(torch.abs(u-v))\n",
        "\n",
        "def calculateAngleVectors(w, v):\n",
        "  \"\"\"\n",
        "  Calculates the angle between two vectors\n",
        "  param w, vector1\n",
        "  param v, vector2\n",
        "  return angle in radians\n",
        "  \"\"\"\n",
        "  dotProd = calculateDotProduct(w, v);\n",
        "  \n",
        "  #L2 norm (P=2), along first dimension\n",
        "  angleRadians = torch.acos(dotProd / (w.norm() * v.norm()));\n",
        "  angleDegrees = (angleRadians / torch.tensor(np.pi)) * 180;\n",
        "  \n",
        "  return angleDegrees\n",
        "\n",
        "## Calculate angle between vectors\n",
        "## Tests exercise 2.1.d\n",
        "vector1 = [-0.3, 0.8, 0.1]\n",
        "vector1 = torch.tensor(vector1)\n",
        "vector2 = [0.5, 0.2, 0.4]\n",
        "vector2 = torch.tensor(vector2)\n",
        "vector3 = [1/np.sqrt(2), -1/np.sqrt(2), 0.]\n",
        "vector3 = torch.tensor(vector3)\n",
        "print(\"a) Angulo en grados entre v1=%s y v2=%s: %s\" % (vector1, vector2, calculateAngleVectors(vector1, vector2)))\n",
        "print(\"b) Angulo en grados entre v2=%s y v3=%s: %s\" % (vector2, vector3, calculateAngleVectors(vector2, vector3)))\n",
        "print(\"c) Angulo en grados entre v1=%s y v3=%s: %s\\n\" % (vector1, vector3, calculateAngleVectors(vector1, vector3)))\n",
        "\n",
        "\n",
        "## Tests exercise 2.1.e\n",
        "print(\"Distancia Euclideana entre v1=%s y v2=%s: %s\" % (vector1, vector2, calculateEuclideanNorm(vector1, vector2)))\n",
        "print(\"Distancia Euclideana usando torch.norm entre v1=%s y v2=%s: %s\" % (vector1, vector2, torch.norm(vector1 - vector2, p=2, dim=None)))\n",
        "print(\"Distancia Manhattan entre v1=%s y v2=%s: %s\" % (vector1, vector2, calculateManhattanNorm(vector1, vector2)))\n",
        "print(\"Distancia Manhattan usando torch.norm entre v1=%s y v2=%s: %s\" % (vector1, vector2, torch.norm(vector1 - vector2, p=1, dim=None)))\n",
        "print(\"Distancia Infinita entre v1=%s y v2=%s: %s\\n\" % (vector1, vector2, calculateInfiniteNorm(vector1, vector2)))\n",
        "\n",
        "print(\"Distancia Euclideana entre v2=%s y v3=%s: %s\" % (vector2, vector3, calculateEuclideanNorm(vector2, vector3)))\n",
        "print(\"Distancia Euclideana usando torch.norm entre v2=%s y v3=%s: %s\" % (vector2, vector3, torch.norm(vector2 - vector3, p=2, dim=None)))\n",
        "print(\"Distancia Manhattan entre v2=%s y v3=%s: %s\" % (vector2, vector3, calculateManhattanNorm(vector2, vector3)))\n",
        "print(\"Distancia Manhattan usando torch.norm entre v2=%s y v3=%s: %s\" % (vector2, vector3, torch.norm(vector2 - vector3, p=1, dim=None)))\n",
        "print(\"Distancia Infinita entre v2=%s y v3=%s: %s\\n\" % (vector2, vector3, calculateInfiniteNorm(vector2, vector3)))\n",
        "\n",
        "print(\"Distancia Euclideana entre v1=%s y v3=%s: %s\" % (vector1, vector3, calculateEuclideanNorm(vector1, vector3)))\n",
        "print(\"Distancia Euclideana usando torch.norm entre v1=%s y v3=%s: %s\" % (vector1, vector3, torch.norm(vector1 - vector3, p=2, dim=None)))\n",
        "print(\"Distancia Manhattan entre v1=%s y v3=%s: %s\" % (vector1, vector3, calculateManhattanNorm(vector1, vector3)))\n",
        "print(\"Distancia Manhattan usando torch.norm entre v1=%s y v3=%s: %s\" % (vector1, vector3, torch.norm(vector1 - vector3, p=1, dim=None)))\n",
        "print(\"Distancia Infinita entre v1=%s y v3=%s: %s\\n\" % (vector1, vector3, calculateInfiniteNorm(vector1, vector3)))\n",
        "\n"
      ],
      "execution_count": 24,
      "outputs": [
        {
          "output_type": "stream",
          "text": [
            "a) Angulo en grados entre v1=tensor([-0.3000,  0.8000,  0.1000]) y v2=tensor([0.5000, 0.2000, 0.4000]): tensor(85.0293)\n",
            "b) Angulo en grados entre v2=tensor([0.5000, 0.2000, 0.4000]) y v3=tensor([ 0.7071, -0.7071,  0.0000]): tensor(71.5650)\n",
            "c) Angulo en grados entre v1=tensor([-0.3000,  0.8000,  0.1000]) y v3=tensor([ 0.7071, -0.7071,  0.0000]): tensor(154.7150)\n",
            "\n",
            "Distancia Euclideana entre v1=tensor([-0.3000,  0.8000,  0.1000]) y v2=tensor([0.5000, 0.2000, 0.4000]): tensor(1.0440)\n",
            "Distancia Euclideana usando torch.norm entre v1=tensor([-0.3000,  0.8000,  0.1000]) y v2=tensor([0.5000, 0.2000, 0.4000]): tensor(1.0440)\n",
            "Distancia Manhattan entre v1=tensor([-0.3000,  0.8000,  0.1000]) y v2=tensor([0.5000, 0.2000, 0.4000]): tensor(1.7000)\n",
            "Distancia Manhattan usando torch.norm entre v1=tensor([-0.3000,  0.8000,  0.1000]) y v2=tensor([0.5000, 0.2000, 0.4000]): tensor(1.7000)\n",
            "Distancia Infinita entre v1=tensor([-0.3000,  0.8000,  0.1000]) y v2=tensor([0.5000, 0.2000, 0.4000]): tensor(0.8000)\n",
            "\n",
            "Distancia Euclideana entre v2=tensor([0.5000, 0.2000, 0.4000]) y v3=tensor([ 0.7071, -0.7071,  0.0000]): tensor(1.0128)\n",
            "Distancia Euclideana usando torch.norm entre v2=tensor([0.5000, 0.2000, 0.4000]) y v3=tensor([ 0.7071, -0.7071,  0.0000]): tensor(1.0128)\n",
            "Distancia Manhattan entre v2=tensor([0.5000, 0.2000, 0.4000]) y v3=tensor([ 0.7071, -0.7071,  0.0000]): tensor(1.5142)\n",
            "Distancia Manhattan usando torch.norm entre v2=tensor([0.5000, 0.2000, 0.4000]) y v3=tensor([ 0.7071, -0.7071,  0.0000]): tensor(1.5142)\n",
            "Distancia Infinita entre v2=tensor([0.5000, 0.2000, 0.4000]) y v3=tensor([ 0.7071, -0.7071,  0.0000]): tensor(0.9071)\n",
            "\n",
            "Distancia Euclideana entre v1=tensor([-0.3000,  0.8000,  0.1000]) y v3=tensor([ 0.7071, -0.7071,  0.0000]): tensor(1.8154)\n",
            "Distancia Euclideana usando torch.norm entre v1=tensor([-0.3000,  0.8000,  0.1000]) y v3=tensor([ 0.7071, -0.7071,  0.0000]): tensor(1.8154)\n",
            "Distancia Manhattan entre v1=tensor([-0.3000,  0.8000,  0.1000]) y v3=tensor([ 0.7071, -0.7071,  0.0000]): tensor(2.6142)\n",
            "Distancia Manhattan usando torch.norm entre v1=tensor([-0.3000,  0.8000,  0.1000]) y v3=tensor([ 0.7071, -0.7071,  0.0000]): tensor(2.6142)\n",
            "Distancia Infinita entre v1=tensor([-0.3000,  0.8000,  0.1000]) y v3=tensor([ 0.7071, -0.7071,  0.0000]): tensor(1.5071)\n",
            "\n"
          ],
          "name": "stdout"
        }
      ]
    },
    {
      "cell_type": "code",
      "metadata": {
        "id": "lQjHEfyu82Qt",
        "colab_type": "code",
        "outputId": "40d0598e-3a16-498c-b77f-cba609f93410",
        "colab": {
          "base_uri": "https://localhost:8080/",
          "height": 52
        }
      },
      "source": [
        "# Test Exercise 2.2\n",
        "\n",
        "def checkConmutativity(u, v):\n",
        "  \"\"\"\n",
        "  Checks the conmutativity property of dot prdouct\n",
        "  param u, vector1\n",
        "  param v, vector2\n",
        "  return true if conmutativity\n",
        "  \"\"\"\n",
        "  \n",
        "  #compute left and right side of the equation\n",
        "  right = v * u\n",
        "  left  = u * v\n",
        "  \n",
        "  difference = torch.abs(right.sum() - left.sum());\n",
        "  sumDifference = difference.sum()\n",
        "  \n",
        "  #Is Conmutativity?\n",
        "  return (sumDifference == 0)\n",
        "\n",
        "def checkAssociativity(u, v, w):\n",
        "  \"\"\"\n",
        "  Checks the associativity property\n",
        "  param u, vector1\n",
        "  param v, vector2\n",
        "  param w, vector3\n",
        "  return true if associativity\n",
        "  \"\"\"\n",
        "  \n",
        "  #compute left and right side of the equation\n",
        "  right = (u * v).sum()\n",
        "  right = right * w\n",
        "  left  = (v * w).sum()\n",
        "  left  = u * left\n",
        "  \n",
        "  difference = torch.abs(right.sum() - left.sum());\n",
        "  sumDifference = difference.sum()\n",
        "  \n",
        "  #Is Associativity?\n",
        "  return (sumDifference == 0)\n",
        "\n",
        "## Tests exercise 2.2.a\n",
        "vector1 = torch.randn(50, 50)\n",
        "vector2 = torch.randn(50, 50)\n",
        "vector3 = torch.randn(50, 50)\n",
        "print(\"Conmutativity: \", checkConmutativity(vector1, vector2))\n",
        "print(\"Associativity: \", checkAssociativity(vector1, vector2, vector3))"
      ],
      "execution_count": 26,
      "outputs": [
        {
          "output_type": "stream",
          "text": [
            "Conmutativity:  tensor(1, dtype=torch.uint8)\n",
            "Associativity:  tensor(0, dtype=torch.uint8)\n"
          ],
          "name": "stdout"
        }
      ]
    },
    {
      "cell_type": "markdown",
      "metadata": {
        "colab_type": "text",
        "id": "6pqZBZtSTIGF"
      },
      "source": [
        "# La distancia de Minkowski como índice de error(30 puntos)\n",
        "a) Use como apoyo el cálculo en Pytorch del MAE y el RMSE de los datos\n",
        "pendientes (?) en la tabla 1."
      ]
    },
    {
      "cell_type": "code",
      "metadata": {
        "colab_type": "code",
        "outputId": "5e94b050-ced5-484a-b74a-9ff89415df7c",
        "id": "N8KOGkIdTIGL",
        "colab": {
          "base_uri": "https://localhost:8080/",
          "height": 297
        }
      },
      "source": [
        "## Tests exercise 3\n",
        "\n",
        "def calculateMAE(u, v):\n",
        "  \"\"\"\n",
        "  Calculates the Mean Absolute Error (MAE)\n",
        "  param u, vector with measured value\n",
        "  param v, vector with real value\n",
        "  return MAE\n",
        "  \"\"\"\n",
        "  criterion = torch.nn.L1Loss()\n",
        "  return criterion(vector1, vector2)\n",
        "\n",
        "def calculateRMSE(u, v):\n",
        "  \"\"\"\n",
        "  Calculates the Root mean squared error (RMSE)\n",
        "  param u, vector with measured value\n",
        "  param v, vector with real value\n",
        "  return RMSE\n",
        "  \"\"\"\n",
        "  criterion = torch.nn.MSELoss()\n",
        "  return torch.sqrt(criterion(vector1, vector2))\n",
        "\n",
        "## Calculate MAE for First Set of Data\n",
        "vector1 = [4.0,6.0,5.0,6.0,8.0,10.0,7.0,4.0,2.0,8.0]\n",
        "vector1 = torch.tensor(vector1)\n",
        "\n",
        "vector2 = [2.0,4.0,3.0,4.0,6.0,8.0,5.0,2.0,4.0,10.0]\n",
        "vector2 = torch.tensor(vector2)\n",
        "\n",
        "vector3 = [2.0,2.0,2.0,2.0,2.0,2.0,2.0,2.0,2.0,2.0]\n",
        "vector3 = torch.tensor(vector3)\n",
        "standardDeviationMAE = torch.std(vector3)\n",
        "\n",
        "vector4 = [4.0,4.0,4.0,4.0,4.0,4.0,4.0,4.0,4.0,4.0]\n",
        "vector4 = torch.tensor(vector4)\n",
        "standardDeviationRMSE = torch.std(vector4)\n",
        "\n",
        "print(\"a) MAE del primer set de datos entre v1=%s y v2=%s: %s\" % (vector1, vector2, calculateMAE(vector1, vector2)))\n",
        "print(\"b) RMSE del primer set de datos entre v1=%s y v2=%s: %s\" % (vector1, vector2, calculateRMSE(vector1, vector2)))\n",
        "print(\"c) Desviacion estandar del MAE del primer set de datos entre v1=%s y v2=%s: %s\" % (vector1, vector2, standardDeviationMAE))\n",
        "print(\"d) Desviacion estandar del RMSE del primer set de datos entre v1=%s y v2=%s: %s\\n\" % (vector1, vector2, standardDeviationRMSE))\n",
        "\n",
        "## Calculate MAE for Second Set of Data\n",
        "vector1 = [5.0,3.0,2.0,4.0,20.0,32.0,5.0,4.0,7.0,41.0]\n",
        "vector1 = torch.tensor(vector1)\n",
        "\n",
        "vector2 = [4.0,2.0,3.0,5.0,21.0,29.0,2.0,7.0,4.0,38.0]\n",
        "vector2 = torch.tensor(vector2)\n",
        "\n",
        "vector3 = [1.0,1.0,1.0,1.0,1.0,3.0,3.0,3.0,3.0,3.0]\n",
        "vector3 = torch.tensor(vector3)\n",
        "standardDeviationMAE = torch.std(vector3)\n",
        "\n",
        "vector4 = [1.0,1.0,1.0,1.0,1.0,9.0,9.0,9.0,9.0,9.0]\n",
        "vector4 = torch.tensor(vector4)\n",
        "standardDeviationRMSE = torch.std(vector4)\n",
        "\n",
        "print(\"a) MAE del segundo set de datos entre v1=%s y v2=%s: %s\" % (vector1, vector2, calculateMAE(vector1, vector2)))\n",
        "print(\"b) RMSE del segundo set de datos entre v1=%s y v2=%s: %s\" % (vector1, vector2, calculateRMSE(vector1, vector2)))\n",
        "print(\"c) Desviacion estandar del MAE del segundo set de datos entre v1=%s y v2=%s: %s\" % (vector1, vector2, standardDeviationMAE))\n",
        "print(\"d) Desviacion estandar del RMSE del segundo set de datos entre v1=%s y v2=%s: %s\\n\" % (vector1, vector2, standardDeviationRMSE))\n",
        "\n",
        "\n",
        "## Calculate MAE for Third Set of Data\n",
        "vector1 = [6.0,20.0,31.0,41.0,50.0,62.0,73.0,4.0,7.0,40.0]\n",
        "vector1 = torch.tensor(vector1)\n",
        "\n",
        "vector2 = [6.0,20.0,31.0,41.0,50.0,62.0,73.0,4.0,7.0,20.0]\n",
        "vector2 = torch.tensor(vector2)\n",
        "\n",
        "vector3 = [0.0,0.0,0.0,0.0,0.0,0.0,0.0,0.0,0.0,20.0]\n",
        "vector3 = torch.tensor(vector3)\n",
        "standardDeviationMAE = torch.std(vector3)\n",
        "\n",
        "vector4 = [0.0,0.0,0.0,0.0,0.0,0.0,0.0,0.0,0.0,400.0]\n",
        "vector4 = torch.tensor(vector4)\n",
        "standardDeviationRMSE = torch.std(vector4)\n",
        "\n",
        "print(\"a) MAE del tercer set de datos entre v1=%s y v2=%s: %s\" % (vector1, vector2, calculateMAE(vector1, vector2)))\n",
        "print(\"b) RMSE del tercer set de datos entre v1=%s y v2=%s: %s\" % (vector1, vector2, calculateRMSE(vector1, vector2)))\n",
        "print(\"c) Desviacion estandar del MAE del tercer set de datos entre v1=%s y v2=%s: %s\" % (vector1, vector2, standardDeviationMAE))\n",
        "print(\"d) Desviacion estandar del RMSE del tercer set de datos entre v1=%s y v2=%s: %s\\n\" % (vector1, vector2, standardDeviationRMSE))\n",
        "\n",
        "\n"
      ],
      "execution_count": 39,
      "outputs": [
        {
          "output_type": "stream",
          "text": [
            "a) MAE del primer set de datos entre v1=tensor([ 4.,  6.,  5.,  6.,  8., 10.,  7.,  4.,  2.,  8.]) y v2=tensor([ 2.,  4.,  3.,  4.,  6.,  8.,  5.,  2.,  4., 10.]): tensor(2.)\n",
            "b) RMSE del primer set de datos entre v1=tensor([ 4.,  6.,  5.,  6.,  8., 10.,  7.,  4.,  2.,  8.]) y v2=tensor([ 2.,  4.,  3.,  4.,  6.,  8.,  5.,  2.,  4., 10.]): tensor(2.)\n",
            "c) Desviacion estandar del MAE del primer set de datos entre v1=tensor([ 4.,  6.,  5.,  6.,  8., 10.,  7.,  4.,  2.,  8.]) y v2=tensor([ 2.,  4.,  3.,  4.,  6.,  8.,  5.,  2.,  4., 10.]): tensor(0.)\n",
            "d) Desviacion estandar del RMSE del primer set de datos entre v1=tensor([ 4.,  6.,  5.,  6.,  8., 10.,  7.,  4.,  2.,  8.]) y v2=tensor([ 2.,  4.,  3.,  4.,  6.,  8.,  5.,  2.,  4., 10.]): tensor(0.)\n",
            "\n",
            "a) MAE del segundo set de datos entre v1=tensor([ 5.,  3.,  2.,  4., 20., 32.,  5.,  4.,  7., 41.]) y v2=tensor([ 4.,  2.,  3.,  5., 21., 29.,  2.,  7.,  4., 38.]): tensor(2.)\n",
            "b) RMSE del segundo set de datos entre v1=tensor([ 5.,  3.,  2.,  4., 20., 32.,  5.,  4.,  7., 41.]) y v2=tensor([ 4.,  2.,  3.,  5., 21., 29.,  2.,  7.,  4., 38.]): tensor(2.2361)\n",
            "c) Desviacion estandar del MAE del segundo set de datos entre v1=tensor([ 5.,  3.,  2.,  4., 20., 32.,  5.,  4.,  7., 41.]) y v2=tensor([ 4.,  2.,  3.,  5., 21., 29.,  2.,  7.,  4., 38.]): tensor(1.0541)\n",
            "d) Desviacion estandar del RMSE del segundo set de datos entre v1=tensor([ 5.,  3.,  2.,  4., 20., 32.,  5.,  4.,  7., 41.]) y v2=tensor([ 4.,  2.,  3.,  5., 21., 29.,  2.,  7.,  4., 38.]): tensor(4.2164)\n",
            "\n",
            "a) MAE del tercer set de datos entre v1=tensor([ 6., 20., 31., 41., 50., 62., 73.,  4.,  7., 40.]) y v2=tensor([ 6., 20., 31., 41., 50., 62., 73.,  4.,  7., 20.]): tensor(2.)\n",
            "b) RMSE del tercer set de datos entre v1=tensor([ 6., 20., 31., 41., 50., 62., 73.,  4.,  7., 40.]) y v2=tensor([ 6., 20., 31., 41., 50., 62., 73.,  4.,  7., 20.]): tensor(6.3246)\n",
            "c) Desviacion estandar del MAE del tercer set de datos entre v1=tensor([ 6., 20., 31., 41., 50., 62., 73.,  4.,  7., 40.]) y v2=tensor([ 6., 20., 31., 41., 50., 62., 73.,  4.,  7., 20.]): tensor(6.3246)\n",
            "d) Desviacion estandar del RMSE del tercer set de datos entre v1=tensor([ 6., 20., 31., 41., 50., 62., 73.,  4.,  7., 40.]) y v2=tensor([ 6., 20., 31., 41., 50., 62., 73.,  4.,  7., 20.]): tensor(126.4911)\n",
            "\n"
          ],
          "name": "stdout"
        }
      ]
    },
    {
      "cell_type": "code",
      "metadata": {
        "colab_type": "code",
        "outputId": "40d0598e-3a16-498c-b77f-cba609f93410",
        "id": "iZhZ11A0TIGR",
        "colab": {
          "base_uri": "https://localhost:8080/",
          "height": 52
        }
      },
      "source": [
        "# Test Exercise 2.2\n",
        "\n",
        "def checkConmutativity(u, v):\n",
        "  \"\"\"\n",
        "  Checks the conmutativity property of dot prdouct\n",
        "  param u, vector1\n",
        "  param v, vector2\n",
        "  return true if conmutativity\n",
        "  \"\"\"\n",
        "  \n",
        "  #compute left and right side of the equation\n",
        "  right = v * u\n",
        "  left  = u * v\n",
        "  \n",
        "  difference = torch.abs(right.sum() - left.sum());\n",
        "  sumDifference = difference.sum()\n",
        "  \n",
        "  #Is Conmutativity?\n",
        "  return (sumDifference == 0)\n",
        "\n",
        "def checkAssociativity(u, v, w):\n",
        "  \"\"\"\n",
        "  Checks the associativity property\n",
        "  param u, vector1\n",
        "  param v, vector2\n",
        "  param w, vector3\n",
        "  return true if associativity\n",
        "  \"\"\"\n",
        "  \n",
        "  #compute left and right side of the equation\n",
        "  right = (u * v).sum()\n",
        "  right = right * w\n",
        "  left  = (v * w).sum()\n",
        "  left  = u * left\n",
        "  \n",
        "  difference = torch.abs(right.sum() - left.sum());\n",
        "  sumDifference = difference.sum()\n",
        "  \n",
        "  #Is Associativity?\n",
        "  return (sumDifference == 0)\n",
        "\n",
        "## Tests exercise 2.2.a\n",
        "vector1 = torch.randn(50, 50)\n",
        "vector2 = torch.randn(50, 50)\n",
        "vector3 = torch.randn(50, 50)\n",
        "print(\"Conmutativity: \", checkConmutativity(vector1, vector2))\n",
        "print(\"Associativity: \", checkAssociativity(vector1, vector2, vector3))"
      ],
      "execution_count": 0,
      "outputs": [
        {
          "output_type": "stream",
          "text": [
            "Conmutativity:  tensor(1, dtype=torch.uint8)\n",
            "Associativity:  tensor(0, dtype=torch.uint8)\n"
          ],
          "name": "stdout"
        }
      ]
    }
  ]
}