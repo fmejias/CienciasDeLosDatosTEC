{
  "nbformat": 4,
  "nbformat_minor": 0,
  "metadata": {
    "colab": {
      "name": "Tarea 2 - Estadistica para Ciencia de los Datos.ipynb",
      "version": "0.3.2",
      "provenance": [],
      "collapsed_sections": []
    },
    "kernelspec": {
      "name": "python3",
      "display_name": "Python 3"
    }
  },
  "cells": [
    {
      "cell_type": "markdown",
      "metadata": {
        "id": "jdtaAwa8XzNA",
        "colab_type": "text"
      },
      "source": [
        "# Estadística para Ciencia de los Datos\n",
        "# Tarea #2\n",
        "En esta asignación se busca que los estudiantes exploren un conjunto de datos y determinen qué distribución modela más efectivamente cada columna. En particular, se sugiere que los estudiantes utilicen el conjunto de datos provisto, pero queda abierto a la decisión de los estudiantes usar otros sets de datos .\n",
        "\n",
        "Deberán tomar en cuenta todas las distribuciones vistas en clase pero no deben limitarse a ellas. Se espera que haya un uso significativo de bibliotecas como `matplotlib` para mostrar visualmente la comparación entre los datos y las distribuciones propuestas.\n",
        "\n",
        "Los estudiantes deberán entregar a más tardar el día 29 de setiembre a las 10:00PM un notebook de colab con la solución a los siguientes ejercicios:\n",
        "\n",
        "1. Elija alguna variable **cuantitativa** del set de datos y: \n",
        "  - Muestre el histograma calculado dinámicamente (e.g. con `matplotlib`) (2 puntos)\n",
        "  - Brinde al menos una propuesta de distribución candidata que modela esa columna, definiendo los parámetros de la distribución y una gráfica de la distribución paramétrica con `matplotlib` (10 puntos)\n",
        "  - Proporcione una explicación detallada de qué valores y distribuciones se probaron en el proceso y por qué se hizo la escogencia. (3 puntos)\n",
        "\n",
        "2. Seleccione 3 columnas adicionales (también cuantitativas) y realize el mismo proceso del punto 2 (45 puntos)\n",
        " - Histograma (2 puntos)\n",
        " - Parámetros y gráfica (10 puntos)\n",
        " - Justificación (3 puntos)\n",
        " \n",
        "3. Para cada columna aplicar una prueba KS  con un $\\alpha=0.05$ para determinar si la muestra en efecto sigue la misma distribución que los estudiantes plantean. Si bien es cierto en clase se abordó la prueba KS para pruebas de normalidad, estas también se pueden utilizar para cualquier otro tipo de distribución\n",
        " - 4 columnas x 10 puntos cada una (40 puntos)\n",
        " - Debe mostrarse suficiente detalle gráfico y aritmético en su respuesta\n",
        "\n",
        "\n"
      ]
    }
  ]
}