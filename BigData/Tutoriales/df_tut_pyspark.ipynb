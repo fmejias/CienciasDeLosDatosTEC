{
 "nbformat": 4,
 "nbformat_minor": 2,
 "metadata": {
  "language_info": {
   "name": "python",
   "codemirror_mode": {
    "name": "ipython",
    "version": 3
   },
   "version": "3.6.8"
  },
  "orig_nbformat": 2,
  "file_extension": ".py",
  "mimetype": "text/x-python",
  "name": "python",
  "npconvert_exporter": "python",
  "pygments_lexer": "ipython3",
  "version": 3
 },
 "cells": [
  {
   "cell_type": "markdown",
   "execution_count": null,
   "metadata": {},
   "outputs": [],
   "source": [
    "# Tutorial 1 Dataframes en Pyspark\n",
    "## Érick Alejandro Muñoz Alvarado\n",
    "## 2019"
   ]
  },
  {
   "cell_type": "markdown",
   "execution_count": null,
   "metadata": {},
   "outputs": [],
   "source": [
    "## Imports necesarios\n",
    "Nota: Varias líneas pueden tirar errorres o salidas diferentes a las que esperamos si no se está usando Java 8 ya que es a versión default de spark"
   ]
  },
  {
   "cell_type": "code",
   "execution_count": 1,
   "metadata": {},
   "outputs": [],
   "source": [
    "from pyspark.sql import SparkSession"
   ]
  },
  {
   "cell_type": "markdown",
   "execution_count": null,
   "metadata": {},
   "outputs": [],
   "source": [
    "## Desarrollo del código"
   ]
  },
  {
   "cell_type": "markdown",
   "execution_count": null,
   "metadata": {},
   "outputs": [],
   "source": [
    "Para el uso de dataframes es necesario crear una sesión de spark como se explica a continuación:\n",
    "\n",
    "    * Uso del \"SparkSession.builder\" como contructor de la sesión.\n",
    "    * El \".master\" indica la conexión a el servidor, en este caso local, que será utilizado como cluster de procesamiento.\n",
    "    * Tercero, el \".appName\" define el nombre de la sesión, en nuestro caso será \"dfTest\".\n",
    "    * Y finalmente el \".getOrCreate\" busca la sessión de spark y de no existir, crea una nueva basada en las características brindadas y lo retorna."
   ]
  },
  {
   "cell_type": "code",
   "execution_count": 2,
   "metadata": {},
   "outputs": [
    {
     "name": "stdout",
     "output_type": "stream",
     "text": "----------Sesión de spark creada satifactoriamente----------\n\n<pyspark.sql.session.SparkSession object at 0x7f6b25d99518>\n\n------------------------------------------------------------\n"
    }
   ],
   "source": [
    "# Creación de la conexión\n",
    "spark = SparkSession.builder \\\n",
    "        .master(\"local\") \\\n",
    "        .appName(\"dfTest\") \\\n",
    "        .getOrCreate()\n",
    "\n",
    "# Verificcamos que la creación haya sido un éxito\n",
    "print(10*\"-\" + \"Sesión de spark creada satifactoriamente\" + 10*\"-\" + '\\n')\n",
    "print(spark)\n",
    "print('\\n' + 60*\"-\")"
   ]
  },
  {
   "cell_type": "markdown",
   "execution_count": null,
   "metadata": {},
   "outputs": [],
   "source": [
    "Seguidamente crearemos un pequeño dataframe basado en un CSV sobre los videos que fueron trending en Youtube México."
   ]
  },
  {
   "cell_type": "code",
   "execution_count": 3,
   "metadata": {},
   "outputs": [
    {
     "name": "stdout",
     "output_type": "stream",
     "text": "<class 'pyspark.sql.dataframe.DataFrame'>\n<class 'pyspark.sql.dataframe.DataFrame'>\n"
    }
   ],
   "source": [
    "# Ubicación del archivo que vamos a leer\n",
    "mx = 'MXvideos.csv'\n",
    "ca = 'CAvideos.csv'\n",
    "\n",
    "# Lectura del archivo en forma de dataframe \n",
    "# Con header=True saltamos la primer fila puesto que corresponde al header del archivo\n",
    "# Con inferSchema = True, infermos los tipos de datos de cada columna\n",
    "mx_df = spark.read.csv(mx, header=True, inferSchema = True)\n",
    "ca_df = spark.read.csv(ca, header=True, inferSchema = True) \n",
    "\n",
    "# Verificamos que se haya cargado correctamente\n",
    "print(type(mx_df))\n",
    "print(type(ca_df))"
   ]
  },
  {
   "cell_type": "markdown",
   "execution_count": null,
   "metadata": {},
   "outputs": [],
   "source": [
    "Spark nos ofrece una gran facilidad cuando se trata de opeerar sobre dataframes, posee una gran cantidad de operaciones y la gran mayoría, está altemente optimizada."
   ]
  },
  {
   "cell_type": "code",
   "execution_count": 4,
   "metadata": {},
   "outputs": [
    {
     "name": "stdout",
     "output_type": "stream",
     "text": "+-----------+-------------+--------------------+--------------------+-----------+--------------------+--------------------+-------+-----+--------+-------------+--------------------+-----------------+----------------+----------------------+--------------------+\n|   video_id|trending_date|               title|       channel_title|category_id|        publish_time|                tags|  views|likes|dislikes|comment_count|      thumbnail_link|comments_disabled|ratings_disabled|video_error_or_removed|         description|\n+-----------+-------------+--------------------+--------------------+-----------+--------------------+--------------------+-------+-----+--------+-------------+--------------------+-----------------+----------------+----------------------+--------------------+\n|SbOwzAl9ZfQ|     17.14.11|Capítulo 12 | Mas...|     MasterChef 2017|         24|2017-11-13T06:06:...|\"MasterChef Junio...| 310130| 4182|     361|         1836|https://i.ytimg.c...|            FALSE|           FALSE|                 FALSE|Disfruta la prese...|\n|klOV6Xh-DnI|     17.14.11|ALEXA EX-INTEGRAN...|Micky Contreras M...|         22|2017-11-13T05:11:...|     La Voz Mexico 7| 104972|  271|     174|          369|https://i.ytimg.c...|            FALSE|           FALSE|                 FALSE|ALEXA EX-INTEGRAN...|\n|6L2ZF7Qzsbk|     17.14.11|LOUIS CKAGÓ - EL ...|El Pulso De La Re...|         25|2017-11-13T17:00:...|\"Chumel Torres|\"\"...| 136064|10105|     266|          607|https://i.ytimg.c...|            FALSE|           FALSE|                 FALSE|La canción del pr...|\n|hcY52MFWMDM|     17.14.11|Sismo de 6.7 sacu...|            Casanare|         25|2017-11-13T03:47:...|\"temblor|\"\"costa ...|  96153|  378|     171|          208|https://i.ytimg.c...|            FALSE|           FALSE|                 FALSE|El video es de un...|\n|_OXDcGPVAa4|     17.14.11|DOG HACKS | MUSAS...|               Musas|         26|2017-11-13T19:17:...|\"MUSAS|\"\"lesslie\"...| 499965|57781|     681|         7428|https://i.ytimg.c...|            FALSE|           FALSE|                 FALSE|MI HERMANO NARRA ...|\n|Q9kK6NWZR1U|     17.14.11|Asi se sintio Ter...|MÚSICA & ENTRETEN...|         10|2017-11-12T20:17:...|              [none]| 129645|  506|      67|          239|https://i.ytimg.c...|            FALSE|           FALSE|                 FALSE|Un fuerte sismo h...|\n|c9VTD3n_IDs|     17.14.11|La Resolana con e...|         La Resolana|         22|2017-11-13T07:00:...|\"la resolana|\"\"la...|  75197| 2277|      69|          164|https://i.ytimg.c...|            FALSE|           FALSE|                 FALSE|Hoy en La Resolan...|\n|XzULSsZYMRc|     17.14.11|M6.7 Costa Rica A...|     concienciaradio|         25|2017-11-13T06:18:...|\"terremoto|\"\"cost...| 142522| 7745|     659|            0|https://i.ytimg.c...|             TRUE|           FALSE|                 FALSE|(CR NOTICIAS NOV ...|\n|uijjYNtl_UM|     17.14.11|7 Niños Famosos Q...|  Los mejores Top 10|         24|2017-11-12T19:54:...|\"los mejores top ...| 371110|20155|     912|          766|https://i.ytimg.c...|            FALSE|           FALSE|                 FALSE|7 Niños Famosos Q...|\n|cOJ68MQm2ac|     17.14.11|TOP: Los 7 libros...|        DrossRotzank|         24|2017-11-12T21:14:...|\"libros infantile...|1111314|83582|    2194|         9106|https://i.ytimg.c...|            FALSE|           FALSE|                 FALSE|Actualizo 3 veces...|\n|rZZEeeAVgog|     17.14.11|Franco Escamilla....|    Franco Escamilla|         23|2017-11-12T19:30:...|\"La|\"\"mesa\"\"|\"\"re...| 471516|23279|     270|          494|https://i.ytimg.c...|            FALSE|           FALSE|                 FALSE|Si, el ángulo de ...|\n|kTT472QeJGg|     17.14.11|Juanpa Zurita ¿Se...|              maurg1|         22|2017-11-13T01:16:...|\"Maurg|\"\"chismes\"...| 220315|17070|    7718|         1895|https://i.ytimg.c...|            FALSE|           FALSE|                 FALSE|El pasado 24 de s...|\n|yhdI98_O-Xc|     17.14.11|Disney Challenge ...|         Memo Aponte|         22|2017-11-13T01:50:...|\"memo aponte coco...| 127796|13293|     216|         2318|https://i.ytimg.c...|            FALSE|           FALSE|                 FALSE|Fui hasta Leon, G...|\n|7jmJtdqI6YE|     17.14.11|Sismo sacude Cost...|            Harrison|         24|2017-11-13T04:44:...|\"terremoto costa ...|  53265|  194|      41|           90|https://i.ytimg.c...|            FALSE|           FALSE|                 FALSE|Un sismo de magni...|\n|Dhhp8M5K3UI|     17.14.11|       Deleted video|            Harrison|         24|2017-11-13T04:44:...|\"terremoto costa ...|  53265|  194|      41|           90|https://i.ytimg.c...|            FALSE|           FALSE|                  TRUE|Un sismo de magni...|\n|M16Usa8oqDg|     17.14.11|TERREMOTO 7,2 SAC...|EnigmAnónimo Mund...|         25|2017-11-13T04:21:...|\"Terremoto|\"\"Eart...|  66073|  399|      39|          109|https://i.ytimg.c...|            FALSE|           FALSE|                 FALSE|un terremoto sacu...|\n|OFXU_vrye9w|     17.14.11|¡Se acabó la espe...|El Privilegio de ...|         23|2017-11-12T23:20:...|\"Televisa|\"\"El pr...|  30274|  705|     199|          125|https://i.ytimg.c...|            FALSE|           FALSE|                 FALSE|Cierra las ventan...|\n|238T-LaO_IM|     17.14.11|Termina Telenovel...|       Chacaleo. Com|         24|2017-11-13T14:00:...|\"Telenovela malcr...|  47789|  776|     143|          308|https://i.ytimg.c...|            FALSE|           FALSE|                 FALSE|Finalmente, las g...|\n|KO-QO5QQAyM|     17.14.11|Mexico vs Polonia...|Central de notíci...|         17|2017-11-13T20:40:...|\"México vs Poland...|  39857|  233|      45|          324|https://i.ytimg.c...|            FALSE|           FALSE|                 FALSE|Mexico vs Polonia...|\n|7D-swI6qNLM|     17.14.11|HACKS CON SILICÓN...|           MaireWink|         24|2017-11-13T18:00:...|              [none]| 217025|26934|     201|         1277|https://i.ytimg.c...|            FALSE|           FALSE|                 FALSE|CANAL DE HISTORIA...|\n+-----------+-------------+--------------------+--------------------+-----------+--------------------+--------------------+-------+-----+--------+-------------+--------------------+-----------------+----------------+----------------------+--------------------+\nonly showing top 20 rows\n\nroot\n |-- video_id: string (nullable = true)\n |-- trending_date: string (nullable = true)\n |-- title: string (nullable = true)\n |-- channel_title: string (nullable = true)\n |-- category_id: string (nullable = true)\n |-- publish_time: string (nullable = true)\n |-- tags: string (nullable = true)\n |-- views: string (nullable = true)\n |-- likes: string (nullable = true)\n |-- dislikes: string (nullable = true)\n |-- comment_count: string (nullable = true)\n |-- thumbnail_link: string (nullable = true)\n |-- comments_disabled: string (nullable = true)\n |-- ratings_disabled: string (nullable = true)\n |-- video_error_or_removed: string (nullable = true)\n |-- description: string (nullable = true)\n\n"
    }
   ],
   "source": [
    "mx_df.show()\n",
    "mx_df.printSchema()"
   ]
  },
  {
   "cell_type": "markdown",
   "execution_count": null,
   "metadata": {},
   "outputs": [],
   "source": [
    "Dado que ya conocemos lo anterior podemos empear a trabajar los datos.\n",
    "\n",
    "1.Para observar los primeros N elementos "
   ]
  },
  {
   "cell_type": "code",
   "execution_count": 5,
   "metadata": {},
   "outputs": [
    {
     "name": "stdout",
     "output_type": "stream",
     "text": "Primeros 5 elementos de mx_df\n"
    },
    {
     "data": {
      "text/plain": "[Row(video_id='SbOwzAl9ZfQ', trending_date='17.14.11', title='Capítulo 12 | MasterChef 2017', channel_title='MasterChef 2017', category_id='24', publish_time='2017-11-13T06:06:22.000Z', tags='\"MasterChef Junior 2017|\"\"TV Azteca\"\"|\"\"recetas\"\"|\"\"cocina\"\"|\"\"Anette Michel\"\"|\"\"Betty Vázquez\"\"|\"\"Benito Molina\"\"|\"\"Adrián Herrera\"\"|\"\"master chef mexico\"\"|\"\"masterchef\"\"|\"\"master chef\"\"|\"\"master chef mexico 2017\"\"|\"\"masterchef mexico jueces\"\"|\"\"la cocina más famosa de méxico\"\"|\"\"reality de cocina más famoso de méxico\"\"|\"\"capítulo 12\"\"|\"\"episodio 12\"\"|\"\"capitulo masterchef\"\"|\"\"capitulo masterchef mexico 2017\"\"|\"\"programa masterchef de hoy\"\"\"', views='310130', likes='4182', dislikes='361', comment_count='1836', thumbnail_link='https://i.ytimg.com/vi/SbOwzAl9ZfQ/default.jpg', comments_disabled='FALSE', ratings_disabled='FALSE', video_error_or_removed='FALSE', description='Disfruta la presencia del Chef Torreblanca en MasterChef, el duelo de pasteles, las mesas regionales de los chefs Benito, Betty y Herrera, la preparación de un tamal  artesanal y la salida del Padre Beto.\\\\n\\\\nMasterChef 2017\\\\nVisita nuestro sitio oficial:\\\\nhttp://www.aztecatrece.com/masterchef\\\\n\\\\nMasterChef regresa este 2017 más exigente que nunca. Descubre quién será el mejor cocinero de México en la cocina más famosa del mundo. Tv Azteca'),\n Row(video_id='klOV6Xh-DnI', trending_date='17.14.11', title='ALEXA EX-INTEGRANTE DEL GRUPO TIMBIRICHE RENUNCIA A ¨La Voz Mexico 7¨TELEVISA 11/11/2017', channel_title='Micky Contreras Martinez', category_id='22', publish_time='2017-11-13T05:11:58.000Z', tags='La Voz Mexico 7', views='104972', likes='271', dislikes='174', comment_count='369', thumbnail_link='https://i.ytimg.com/vi/klOV6Xh-DnI/default.jpg', comments_disabled='FALSE', ratings_disabled='FALSE', video_error_or_removed='FALSE', description='ALEXA EX-INTEGRANTE DEL GRUPO TIMBIRICHE RENUNCIA A ¨La Voz Mexico 7¨TELEVISA 11/11/2017'),\n Row(video_id='6L2ZF7Qzsbk', trending_date='17.14.11', title='LOUIS CKAGÓ - EL PULSO DE LA REPÚBLICA', channel_title='El Pulso De La República', category_id='25', publish_time='2017-11-13T17:00:02.000Z', tags='\"Chumel Torres|\"\"El Pulso de la Republica\"\"|\"\"noticias\"\"|\"\"news\"\"|\"\"mexico\"\"|\"\"pri\"\"|\"\"pan\"\"|\"\"prd\"\"|\"\"morena\"\"|\"\"louis ck\"\"|\"\"carstens\"\"|\"\"acoso\"\"|\"\"qatar\"\"|\"\"chicharito\"\"|\"\"premio nacional del deporte\"\"|\"\"carlos slim\"\"|\"\"carlos vergara\"\"|\"\"chivas\"\"|\"\"angelica fuentes\"\"\"', views='136064', likes='10105', dislikes='266', comment_count='607', thumbnail_link='https://i.ytimg.com/vi/6L2ZF7Qzsbk/default.jpg', comments_disabled='FALSE', ratings_disabled='FALSE', video_error_or_removed='FALSE', description='La canción del principio se llama “Este espíritu” de nuestros carnales de nuestros carnales de Corona en colaboración con La Banda Bastón y Sotomayor, escúchala completa aquí:\\\\nhttps://youtu.be/pQI70NAgN-I\\\\nO en Spotify \\\\nhttps://open.spotify.com/track/1tg4Sm0RY0HMReaI0YmJuM\\\\n\\\\nEl Pulso de La República. El InIn (Informativo Informal) que sale todos los LUNES y JUEVES a las 11 A.M. está también disponible en todas las plataformas:\\\\n\\\\nPara la fresada: https://itunes.apple.com/mx/app/el-pulso/id916281976?mt=8\\\\nPara la pelusa: https://play.google.com/store/apps/details?id=com.iktwo.elpulso&hl=es_419:\\\\nPara tus tías: https://www.facebook.com/ElPulsoDeLaRepublica/\\\\n\\\\nLa Lista Oficial de toda la música no oficial de El Pulso:\\\\nhttps://open.spotify.com/user/12161104895/playlist/3yI4U05btr0MmNIn2etRKH\\\\n\\\\nY también, si quieres tener un cachito de nosotros, está la tienda de productos oficiales:\\\\n\\\\nhttps://www.kichink.com/stores/maquina\\\\n\\\\nEl Pulso de la República somos:\\\\n\\\\nhttp://twitter.com/ChumelTorres\\\\nhttp://twitter.com/Durden\\\\nhttp://twitter.com/ZomVieck\\\\nhttp://twitter.com/rikymoreno\\\\nhttp://twitter.com/Kaizzer\\\\nhttps://twitter.com/elgab\\\\n\\\\nNo olvides suscribirte al canal y darnos tus pulgares arriba. Somos El Pulso de La República y nos despedimos no sin antes decirles que… Los amamos, estupeds.'),\n Row(video_id='hcY52MFWMDM', trending_date='17.14.11', title='Sismo de 6.7 sacude Costa Rica 12 Noviembre 2017', channel_title='Casanare', category_id='25', publish_time='2017-11-13T03:47:10.000Z', tags='\"temblor|\"\"costa rica\"\"|\"\"sismo en costa rica\"\"\"', views='96153', likes='378', dislikes='171', comment_count='208', thumbnail_link='https://i.ytimg.com/vi/hcY52MFWMDM/default.jpg', comments_disabled='FALSE', ratings_disabled='FALSE', video_error_or_removed='FALSE', description='El video es de un Walmart en el pais centroamericano en el momento del temblor\\\\n\\\\nEl movimiento telúrico se produjo a las 20:28 (hora local) y tuvo su epicentro en el océano Pacífico a 19 kilómetros al sur de Jacó, ciudad playera de la provincia de Puntarenas, según la Red Sismológica Nacional.\\\\n\\\\nHasta el momento no hay reportes de personas heridas ni daños materiales.'),\n Row(video_id='_OXDcGPVAa4', trending_date='17.14.11', title='DOG HACKS | MUSAS LESSLIE LOS POLINESIOS', channel_title='Musas', category_id='26', publish_time='2017-11-13T19:17:48.000Z', tags='\"MUSAS|\"\"lesslie\"\"|\"\"karen\"\"|\"\"hacks\"\"|\"\"perros\"\"|\"\"dogs\"\"|\"\"trucos\"\"|\"\"los polinesios\"\"|\"\"aria\"\"|\"\"kler\"\"|\"\"manualidades\"\"|\"\"snaks de perros\"\"|\"\"dulces para perros\"\"|\"\"jueguetes\"\"|\"\"jueguetes de perro\"\"|\"\"can\"\"|\"\"diy dogs\"\"|\"\"diy hacks\"\"\"', views='499965', likes='57781', dislikes='681', comment_count='7428', thumbnail_link='https://i.ytimg.com/vi/_OXDcGPVAa4/default.jpg', comments_disabled='FALSE', ratings_disabled='FALSE', video_error_or_removed='FALSE', description='MI HERMANO NARRA MI RUTINA DE MAQUILLAJE\\\\nhttps://youtu.be/Ge4wYu90Q2A\\\\n------------------------------------------------------------------------------------\\\\n\\\\nNUESTROS CANALES:\\\\nBromas: http://www.youtube.com/platicapolinesa\\\\nRetos: http://www.youtube.com/ppextras\\\\nVlogs: http://www.youtube.com/lospolinesios\\\\nVideojuegos: http://www.youtube.com/ppjuxiis\\\\n\\\\n------------------------------------------------------------------------------------\\\\n\\\\nMIS REDES SOCIALES:\\\\n***Mi Facebook: http://www.facebook.com/TeamLesslie\\\\n***Mi Twitter: http://www.twitter.com/PPTeamLesslie\\\\n***Mi Instagram: http://www.instagram.com/PPTeamLesslie\\\\n\\\\n------------------------------------------------------------------------------------\\\\n\\\\n\\\\n***SUSCRIBETE: http://www.youtube.com/subscription_center?add_user=ppmussas\\\\n\\\\nCONTACTO: contacto@platicapolinesia.com\\\\n\\\\n\\\\n____________________________________________\\\\n\\\\nCanal Musas | Platica Polinesia | PP')]"
     },
     "execution_count": 5,
     "metadata": {},
     "output_type": "execute_result"
    }
   ],
   "source": [
    "N = 5\n",
    "print('Primeros ' + str(N) +' elementos de mx_df')\n",
    "mx_df.head(N)"
   ]
  },
  {
   "cell_type": "markdown",
   "execution_count": null,
   "metadata": {},
   "outputs": [],
   "source": [
    "2.Para contar la cantidad de filas que tiene el df"
   ]
  },
  {
   "cell_type": "code",
   "execution_count": 6,
   "metadata": {},
   "outputs": [
    {
     "name": "stdout",
     "output_type": "stream",
     "text": "Cantidad de filas que tiene el df es 43819\n"
    }
   ],
   "source": [
    "num_filas = mx_df.count()\n",
    "print('Cantidad de filas que tiene el df es ' + str(num_filas))"
   ]
  },
  {
   "cell_type": "markdown",
   "execution_count": null,
   "metadata": {},
   "outputs": [],
   "source": [
    "3.Columnas en el df\n"
   ]
  },
  {
   "cell_type": "code",
   "execution_count": 7,
   "metadata": {},
   "outputs": [
    {
     "name": "stdout",
     "output_type": "stream",
     "text": "['video_id', 'trending_date', 'title', 'channel_title', 'category_id', 'publish_time', 'tags', 'views', 'likes', 'dislikes', 'comment_count', 'thumbnail_link', 'comments_disabled', 'ratings_disabled', 'video_error_or_removed', 'description']\n"
    }
   ],
   "source": [
    "cols = mx_df.columns\n",
    "print(cols)"
   ]
  },
  {
   "cell_type": "markdown",
   "execution_count": null,
   "metadata": {},
   "outputs": [],
   "source": [
    "4.Obtiene el resumen estadístico de las columnas numéricas del dataframe.\n"
   ]
  },
  {
   "cell_type": "code",
   "execution_count": 8,
   "metadata": {},
   "outputs": [
    {
     "name": "stdout",
     "output_type": "stream",
     "text": "+-------+--------------------+---------------+--------------------+--------------------+--------------------+--------------------+--------------------+------------------+--------------------+------------------+------------------+--------------------+--------------------+----------------+----------------------+--------------------+\n|summary|            video_id|  trending_date|               title|       channel_title|         category_id|        publish_time|                tags|             views|               likes|          dislikes|     comment_count|      thumbnail_link|   comments_disabled|ratings_disabled|video_error_or_removed|         description|\n+-------+--------------------+---------------+--------------------+--------------------+--------------------+--------------------+--------------------+------------------+--------------------+------------------+------------------+--------------------+--------------------+----------------+----------------------+--------------------+\n|  count|               43819|          40593|               40510|               40501|               40490|               40484|               40480|             40478|               40476|             40472|             40471|               40471|               40470|           40470|                 40470|               36246|\n|   mean|                 1.0|           null|                 2.0|               123.0|   21.00313960099874|                null|              2018.0| 342381.9681590072|  15861.837432943561| 747.1603915848805| 2039.660008405231|                null|                null|            null|                  null|              1342.0|\n| stddev|                 NaN|           null|                 NaN|                 NaN|   5.878995317224066|                null|                 0.0|1714690.6809946736|   81089.86914970544|10953.576599076054|13938.031796901914|                null|                null|            null|                  null|  1160.4895518702442|\n|    min|                C...|               |            Chamanes|  agrega más churros|         Exopolitica| CANTIDADES EN PE...| (SI ERES AVANZAD...|          Chiclayo|                    |        Cajamarca.|     INTRATERRENOS|      ALERTA SÍSMICA|             Armando|            Chuy|       GNOSIS CRISTICA|                    |\n|    max|     ••••INFORMATION|CONTRATACIONES |🦄Como hacer GUAR...|      특이한동물채널| duelos lejos de ...|2018-06-14T03:40:...|¿Wagner próximo m...|            999860| porque es el hom...|              9991|              9997|https://i.ytimg.c...| sé que el Necesi...|            TRUE|                  TRUE|🦄🌈🦄🌈 GRACIAS ...|\n+-------+--------------------+---------------+--------------------+--------------------+--------------------+--------------------+--------------------+------------------+--------------------+------------------+------------------+--------------------+--------------------+----------------+----------------------+--------------------+\n\n"
    }
   ],
   "source": [
    "mx_df.describe().show()"
   ]
  },
  {
   "cell_type": "markdown",
   "execution_count": null,
   "metadata": {},
   "outputs": [],
   "source": [
    "5.Obtiene el resumen estadístico de la columna específica del dataframe."
   ]
  },
  {
   "cell_type": "code",
   "execution_count": 9,
   "metadata": {},
   "outputs": [
    {
     "name": "stdout",
     "output_type": "stream",
     "text": "+-------+------------------+\n|summary|             views|\n+-------+------------------+\n|  count|             40478|\n|   mean| 342381.9681590072|\n| stddev|1714690.6809946736|\n|    min|          Chiclayo|\n|    max|            999860|\n+-------+------------------+\n\n"
    }
   ],
   "source": [
    "mx_df.describe('views').show()"
   ]
  },
  {
   "cell_type": "markdown",
   "execution_count": null,
   "metadata": {},
   "outputs": [],
   "source": [
    "6.Seleccionar una columna de un dataframe."
   ]
  },
  {
   "cell_type": "code",
   "execution_count": 10,
   "metadata": {},
   "outputs": [
    {
     "name": "stdout",
     "output_type": "stream",
     "text": "+--------------------+\n|         description|\n+--------------------+\n|Disfruta la prese...|\n|ALEXA EX-INTEGRAN...|\n|La canción del pr...|\n|El video es de un...|\n|MI HERMANO NARRA ...|\n+--------------------+\nonly showing top 5 rows\n\n"
    }
   ],
   "source": [
    "mx_df.select('description').show(5)"
   ]
  },
  {
   "cell_type": "markdown",
   "execution_count": null,
   "metadata": {},
   "outputs": [],
   "source": []
  },
  {
   "cell_type": "markdown",
   "execution_count": null,
   "metadata": {},
   "outputs": [],
   "source": [
    "7.Cantidad de filas distintas en una columna."
   ]
  },
  {
   "cell_type": "code",
   "execution_count": 11,
   "metadata": {},
   "outputs": [
    {
     "data": {
      "text/plain": "33259"
     },
     "execution_count": 11,
     "metadata": {},
     "output_type": "execute_result"
    }
   ],
   "source": [
    "mx_df.select('publish_time').distinct().count()"
   ]
  },
  {
   "cell_type": "markdown",
   "execution_count": null,
   "metadata": {},
   "outputs": [],
   "source": [
    "8.Para eliminar filas con valores nulos.\n",
    "\n",
    "9.Para sustituit los valores nulos por una constante."
   ]
  },
  {
   "cell_type": "code",
   "execution_count": 12,
   "metadata": {},
   "outputs": [
    {
     "data": {
      "text/plain": "36246"
     },
     "execution_count": 12,
     "metadata": {},
     "output_type": "execute_result"
    }
   ],
   "source": [
    "mx_df.dropna().count()"
   ]
  },
  {
   "cell_type": "markdown",
   "execution_count": null,
   "metadata": {},
   "outputs": [],
   "source": [
    "9.Para sustituir los valores nulos por una constante, en este caso 0."
   ]
  },
  {
   "cell_type": "code",
   "execution_count": 13,
   "metadata": {},
   "outputs": [
    {
     "data": {
      "text/plain": "43819"
     },
     "execution_count": 13,
     "metadata": {},
     "output_type": "execute_result"
    }
   ],
   "source": [
    "mx_df.fillna(0).count()"
   ]
  },
  {
   "cell_type": "markdown",
   "execution_count": null,
   "metadata": {},
   "outputs": [],
   "source": [
    "10.Filtrar las filas que cumplen cierta característica, en este caso los que tienen más de un millón de vistas."
   ]
  },
  {
   "cell_type": "code",
   "execution_count": 14,
   "metadata": {},
   "outputs": [
    {
     "data": {
      "text/plain": "2544"
     },
     "execution_count": 14,
     "metadata": {},
     "output_type": "execute_result"
    }
   ],
   "source": [
    "mx_df.filter(mx_df.views > 1000000).count()"
   ]
  },
  {
   "cell_type": "markdown",
   "execution_count": null,
   "metadata": {},
   "outputs": [],
   "source": [
    "11.Agrupar y operar, en este caso agrupamos por categoría y sacamos al media de vistas de cada una."
   ]
  },
  {
   "cell_type": "code",
   "execution_count": 15,
   "metadata": {},
   "outputs": [
    {
     "name": "stdout",
     "output_type": "stream",
     "text": "+--------------------+------------------+\n|         category_id|        avg(views)|\n+--------------------+------------------+\n|                  15| 548242.8266666667|\n|                  29|248352.35211267605|\n|         reptilianos|              null|\n| duelos lejos de ...|              null|\n|                  22|        166486.484|\n|                  28| 397307.9166666667|\n|                  43|           21812.0|\n|                  27| 86884.64826175869|\n|                  17|334962.48679553496|\n|                  26|192539.60165975103|\n|             Jessica|              null|\n|                  19|120978.20353982301|\n|                  23| 480729.1413515189|\n|                  25|164414.30886956523|\n|        Don Barrabas|              null|\n|                  24| 320069.6200097768|\n|                   1| 387496.7376910017|\n|                  20| 454563.6822742475|\n|                  10| 1280763.882843895|\n|                   2|197129.26829268291|\n+--------------------+------------------+\n\n"
    }
   ],
   "source": [
    "mx_df.dropna().groupby('category_id').agg({'views': 'mean'}).show()"
   ]
  },
  {
   "cell_type": "markdown",
   "execution_count": null,
   "metadata": {},
   "outputs": [],
   "source": [
    "12.Ordenar basado en una columna."
   ]
  },
  {
   "cell_type": "code",
   "execution_count": 16,
   "metadata": {},
   "outputs": [
    {
     "name": "stdout",
     "output_type": "stream",
     "text": "+-----------+-------------+--------------------+--------------------+-----------+--------------------+--------------------+------+-----+--------+-------------+--------------------+-----------------+----------------+----------------------+--------------------+\n|   video_id|trending_date|               title|       channel_title|category_id|        publish_time|                tags| views|likes|dislikes|comment_count|      thumbnail_link|comments_disabled|ratings_disabled|video_error_or_removed|         description|\n+-----------+-------------+--------------------+--------------------+-----------+--------------------+--------------------+------+-----+--------+-------------+--------------------+-----------------+----------------+----------------------+--------------------+\n|iiOzcMQiDZs|     17.27.11|Valencia vs Barce...|           GOLAZO TV|         17|2017-11-26T21:50:...|\"Valencia|\"\"vs\"\"|...|999860| 5586|     481|         1693|https://i.ytimg.c...|            FALSE|           FALSE|                 FALSE|Valencia vs Barce...|\n|CRzTUNVEmSI|     18.22.01|🔰SI TE RÍES PIER...|            THE YOLO|         23|2018-01-20T23:56:...|\"the yolo|\"\"the y...|999787|46141|    2305|         6500|https://i.ytimg.c...|            FALSE|           FALSE|                 FALSE|💥 SUSCRIBETE PAR...|\n|oZVvn17ZQao|     17.18.12|SANTA CLAUS SINIE...|The Youman Show -...|         24|2017-12-17T16:15:...|\"santa claus|\"\"sa...| 99974|13349|     210|         1833|https://i.ytimg.c...|            FALSE|           FALSE|                 FALSE|Dale al botón de ...|\n|EtVo3xnArww|     18.10.02|Todos los spoiler...|         Frikidoctor|         24|2018-02-09T23:23:...|\"frikidoctor|\"\"fr...|  9997|  959|      11|          134|https://i.ytimg.c...|            FALSE|           FALSE|                 FALSE|El rodaje de la 8...|\n|t4VWvOMHUNo|     18.25.03|Los mexicanos som...|      Tops Al Chile!|         24|2018-03-23T20:35:...|\"los mexicanos so...| 99960| 3280|     259|          429|https://i.ytimg.c...|            FALSE|           FALSE|                 FALSE|Visiten el canal ...|\n+-----------+-------------+--------------------+--------------------+-----------+--------------------+--------------------+------+-----+--------+-------------+--------------------+-----------------+----------------+----------------------+--------------------+\nonly showing top 5 rows\n\n"
    }
   ],
   "source": [
    "mx_df.orderBy(mx_df.views, ascending=False).show(5)"
   ]
  },
  {
   "cell_type": "markdown",
   "execution_count": null,
   "metadata": {},
   "outputs": [],
   "source": [
    "13.Hacer el drop de una columna."
   ]
  },
  {
   "cell_type": "code",
   "execution_count": 17,
   "metadata": {},
   "outputs": [
    {
     "data": {
      "text/plain": "['video_id',\n 'trending_date',\n 'title',\n 'channel_title',\n 'category_id',\n 'publish_time',\n 'views',\n 'likes',\n 'dislikes',\n 'comment_count',\n 'thumbnail_link',\n 'comments_disabled',\n 'ratings_disabled',\n 'video_error_or_removed',\n 'description']"
     },
     "execution_count": 17,
     "metadata": {},
     "output_type": "execute_result"
    }
   ],
   "source": [
    "mx_df.drop(\"tags\").columns"
   ]
  },
  {
   "cell_type": "markdown",
   "execution_count": null,
   "metadata": {},
   "outputs": [],
   "source": [
    "14.Eliminar videos que parecen tanto en la lista de México como la de Canadá."
   ]
  },
  {
   "cell_type": "code",
   "execution_count": 18,
   "metadata": {},
   "outputs": [
    {
     "data": {
      "text/plain": "32473"
     },
     "execution_count": 18,
     "metadata": {},
     "output_type": "execute_result"
    }
   ],
   "source": [
    "diff_df = mx_df.select('video_id').subtract(ca_df.select('video_id'))\n",
    "diff_df.distinct().count()"
   ]
  },
  {
   "cell_type": "markdown",
   "execution_count": null,
   "metadata": {},
   "outputs": [],
   "source": [
    "15.Join."
   ]
  },
  {
   "cell_type": "code",
   "execution_count": 19,
   "metadata": {},
   "outputs": [
    {
     "name": "stdout",
     "output_type": "stream",
     "text": "+-----------+-------------+--------------------+--------------------+-----------+--------------------+--------------------+-------+------+--------+-------------+--------------------+-----------------+----------------+----------------------+--------------------+-----------+-------------+--------------------+--------------------+-----------+--------------------+--------------------+-------+------+--------+-------------+--------------------+-----------------+----------------+----------------------+--------------------+\n|   video_id|trending_date|               title|       channel_title|category_id|        publish_time|                tags|  views| likes|dislikes|comment_count|      thumbnail_link|comments_disabled|ratings_disabled|video_error_or_removed|         description|   video_id|trending_date|               title|       channel_title|category_id|        publish_time|                tags|  views| likes|dislikes|comment_count|      thumbnail_link|comments_disabled|ratings_disabled|video_error_or_removed|         description|\n+-----------+-------------+--------------------+--------------------+-----------+--------------------+--------------------+-------+------+--------+-------------+--------------------+-----------------+----------------+----------------------+--------------------+-----------+-------------+--------------------+--------------------+-----------+--------------------+--------------------+-------+------+--------+-------------+--------------------+-----------------+----------------+----------------------+--------------------+\n|0bXCbVGb04A|     18.11.06|Game Theory: FNAF...|  The Game Theorists|         20|2018-06-10T19:05:...|\"fnaf|\"\"five nigh...|2346742|140379|    2951|        33765|https://i.ytimg.c...|            FALSE|           FALSE|                 FALSE|FNAF STUMPED Me! ...|0bXCbVGb04A|     18.11.06|Game Theory: FNAF...|  The Game Theorists|         20|2018-06-10T19:05:...|\"fnaf\"|\"five nigh...|2341772|140376|    2951|        33760|https://i.ytimg.c...|            False|           False|                 False|FNAF STUMPED Me! ...|\n|173_sjiKXQk|     17.30.11|Playing with 1000...|        iBuyNewStuff|         27|2017-11-29T12:02:...|\"magnetic balls|\"...| 171325|  1587|     127|          284|https://i.ytimg.c...|            FALSE|           FALSE|                 FALSE|Magnetic Balls ak...|173_sjiKXQk|     17.01.12|Playing with 1000...|        iBuyNewStuff|         27|2017-11-29T12:02:...|\"magnetic balls\"|...| 583707|  3227|     333|          406|https://i.ytimg.c...|            False|           False|                 False|Magnetic Balls ak...|\n|6vi6yQtntdE|     18.11.05|Trump Supporters ...|Late Night with S...|         23|2018-05-11T01:00:...|\"Late|\"\"Night\"\"|\"...| 475098|  7342|     347|         1627|https://i.ytimg.c...|            FALSE|           FALSE|                 FALSE|Seth takes a clos...|6vi6yQtntdE|     18.12.05|Trump Supporters ...|Late Night with S...|         23|2018-05-11T01:00:...|\"Late\"|\"Night\"|\"w...|1417055| 14064|    1037|         3356|https://i.ytimg.c...|            False|           False|                 False|Seth takes a clos...|\n|6vi6yQtntdE|     18.11.05|Trump Supporters ...|Late Night with S...|         23|2018-05-11T01:00:...|\"Late|\"\"Night\"\"|\"...| 475098|  7342|     347|         1627|https://i.ytimg.c...|            FALSE|           FALSE|                 FALSE|Seth takes a clos...|6vi6yQtntdE|     18.13.05|Trump Supporters ...|Late Night with S...|         23|2018-05-11T01:00:...|\"Late\"|\"Night\"|\"w...|1647607| 15509|    1317|         3691|https://i.ytimg.c...|            False|           False|                 False|Seth takes a clos...|\n|9_LIP7qguYw|     18.10.05|Hidden Meanings B...|             INSIDER|         24|2018-05-09T16:19:...|\"INSIDER|\"\"this i...| 865424| 24733|    1691|         2714|https://i.ytimg.c...|            FALSE|           FALSE|                 FALSE|Childish Gambino'...|9_LIP7qguYw|     18.10.05|Hidden Meanings B...|             INSIDER|         24|2018-05-09T16:19:...|\"INSIDER\"|\"this i...| 865424| 24731|    1691|         2714|https://i.ytimg.c...|            False|           False|                 False|Childish Gambino'...|\n|9_LIP7qguYw|     18.10.05|Hidden Meanings B...|             INSIDER|         24|2018-05-09T16:19:...|\"INSIDER|\"\"this i...| 865424| 24733|    1691|         2714|https://i.ytimg.c...|            FALSE|           FALSE|                 FALSE|Childish Gambino'...|9_LIP7qguYw|     18.11.05|Hidden Meanings B...|             INSIDER|         24|2018-05-09T16:19:...|\"INSIDER\"|\"this i...|3162367| 74545|    5583|         8200|https://i.ytimg.c...|            False|           False|                 False|Childish Gambino'...|\n|9_LIP7qguYw|     18.10.05|Hidden Meanings B...|             INSIDER|         24|2018-05-09T16:19:...|\"INSIDER|\"\"this i...| 865424| 24733|    1691|         2714|https://i.ytimg.c...|            FALSE|           FALSE|                 FALSE|Childish Gambino'...|9_LIP7qguYw|     18.12.05|Hidden Meanings B...|             INSIDER|         24|2018-05-09T16:19:...|\"INSIDER\"|\"this i...|4918816|108126|    8511|        11438|https://i.ytimg.c...|            False|           False|                 False|Childish Gambino'...|\n|9_LIP7qguYw|     18.10.05|Hidden Meanings B...|             INSIDER|         24|2018-05-09T16:19:...|\"INSIDER|\"\"this i...| 865424| 24733|    1691|         2714|https://i.ytimg.c...|            FALSE|           FALSE|                 FALSE|Childish Gambino'...|9_LIP7qguYw|     18.13.05|Hidden Meanings B...|             INSIDER|         24|2018-05-09T16:19:...|\"INSIDER\"|\"this i...|6721863|137202|   11296|        14137|https://i.ytimg.c...|            False|           False|                 False|Childish Gambino'...|\n|9_LIP7qguYw|     18.10.05|Hidden Meanings B...|             INSIDER|         24|2018-05-09T16:19:...|\"INSIDER|\"\"this i...| 865424| 24733|    1691|         2714|https://i.ytimg.c...|            FALSE|           FALSE|                 FALSE|Childish Gambino'...|9_LIP7qguYw|     18.15.05|Hidden Meanings B...|             INSIDER|         24|2018-05-09T16:19:...|\"INSIDER\"|\"this i...|8455796|161430|   14004|        15371|https://i.ytimg.c...|            False|           False|                 False|Childish Gambino'...|\n|AQ3dPvVPXyc|     18.26.04|Bayern Munich vs ...|         Football WC|         24|2018-04-25T21:24:...|\"bayern munich|\"\"...| 440538|  2155|     262|          212|https://i.ytimg.c...|            FALSE|           FALSE|                 FALSE|Bayern Munich vs ...|AQ3dPvVPXyc|     18.26.04|Bayern Munich vs ...|         Football WC|         24|2018-04-25T21:24:...|\"bayern munich\"|\"...| 440538|  2155|     262|          212|https://i.ytimg.c...|            False|           False|                 False|Bayern Munich vs ...|\n+-----------+-------------+--------------------+--------------------+-----------+--------------------+--------------------+-------+------+--------+-------------+--------------------+-----------------+----------------+----------------------+--------------------+-----------+-------------+--------------------+--------------------+-----------+--------------------+--------------------+-------+------+--------+-------------+--------------------+-----------------+----------------+----------------------+--------------------+\nonly showing top 10 rows\n\n"
    }
   ],
   "source": [
    "mx_df.join(ca_df, mx_df.video_id == ca_df.video_id).show(10)"
   ]
  },
  {
   "cell_type": "markdown",
   "execution_count": null,
   "metadata": {},
   "outputs": [],
   "source": [
    "Join derecho, izquierdo y externo."
   ]
  },
  {
   "cell_type": "code",
   "execution_count": 20,
   "metadata": {},
   "outputs": [
    {
     "name": "stdout",
     "output_type": "stream",
     "text": "led|ratings_disabled|video_error_or_removed|         description|\n+-----------+-------------+--------------------+----------------+-----------+--------------------+--------------------+-------+------+--------+-------------+--------------------+-----------------+----------------+----------------------+--------------------+-----------+-------------+--------------------+----------------+-----------+--------------------+--------------------+--------+-------+--------+-------------+--------------------+-----------------+----------------+----------------------+--------------------+\n|       null|         null|                null|            null|       null|                null|                null|   null|  null|    null|         null|                null|             null|            null|                  null|                null|2Vv-BfVoq4g|     17.14.11|Ed Sheeran - Perf...|      Ed Sheeran|         10|2017-11-09T11:04:...|\"edsheeran\"|\"ed s...|33523622|1634130|   21082|        85067|https://i.ytimg.c...|            False|           False|                 False|🎧: https://ad.gt...|\n|       null|         null|                null|            null|       null|                null|                null|   null|  null|    null|         null|                null|             null|            null|                  null|                null|43sm-QwLcx4|     17.14.11|Finally Sheldon i...|     Sheikh Musa|         22|2017-11-10T14:10:...|\"God\"|\"Sheldon Co...|  505161|   4135|     976|         1484|https://i.ytimg.c...|            False|           False|                 False|Sheldon is roasti...|\n|       null|         null|                null|            null|       null|                null|                null|   null|  null|    null|         null|                null|             null|            null|                  null|                null|d380meD0W0M|     17.14.11|I Dare You: GOING...|        nigahiga|         24|2017-11-12T18:01:...|\"ryan\"|\"higa\"|\"hi...| 2095828| 132239|    1989|        17518|https://i.ytimg.c...|            False|           False|                 False|I know it's been ...|\n|0dBIkQ4Mz1M|     17.14.11|PLUSH - Bad Unbox...|       iDubbbzTV|         23|2017-11-13T17:00:...|\"plush|\"\"bad unbo...|1014651|127822|    1688|        13036|https://i.ytimg.c...|            FALSE|           FALSE|                 FALSE|STill got a lot o...|0dBIkQ4Mz1M|     17.14.11|PLUSH - Bad Unbox...|       iDubbbzTV|         23|2017-11-13T17:00:...|\"plush\"|\"bad unbo...| 1014651| 127794|    1688|        13030|https://i.ytimg.c...|            False|           False|                 False|STill got a lot o...|\n|5qpjK5DgCt4|     17.14.11|Racist Superman |...|    Rudy Mancuso|         23|2017-11-12T19:05:...|\"racist superman|...|3191442|146043|    5339|         8181|https://i.ytimg.c...|            FALSE|           FALSE|                 FALSE|WATCH MY PREVIOUS...|5qpjK5DgCt4|     17.14.11|Racist Superman |...|    Rudy Mancuso|         23|2017-11-12T19:05:...|\"racist superman\"...| 3191434| 146035|    5339|         8181|https://i.ytimg.c...|            False|           False|                 False|WATCH MY PREVIOUS...|\n|2kyS6SvSYSE|     17.14.11|WE WANT TO TALK A...|    CaseyNeistat|         22|2017-11-13T17:13:...|     SHANtell martin| 748374| 57546|    2968|        15968|https://i.ytimg.c...|            FALSE|           FALSE|                 FALSE|SHANTELL'S CHANNE...|2kyS6SvSYSE|     17.14.11|WE WANT TO TALK A...|    CaseyNeistat|         22|2017-11-13T17:13:...|     SHANtell martin|  748374|  57534|    2967|        15959|https://i.ytimg.c...|            False|           False|                 False|SHANTELL'S CHANNE...|\n|       null|         null|                null|            null|       null|                null|                null|   null|  null|    null|         null|                null|             null|            null|                  null|                null|H1KBHFXm2Bg|     17.14.11|21 Savage - Bank ...|       21 Savage|         10|2017-11-10T19:00:...|\"21 savage\"|\"bank...| 5068229| 263596|    8585|        28976|https://i.ytimg.c...|            False|           False|                 False|Watch the officia...|\n|       null|         null|                null|            null|       null|                null|                null|   null|  null|    null|         null|                null|             null|            null|                  null|                null|n1WpP7iowLc|     17.14.11|Eminem - Walk On ...|      EminemVEVO|         10|2017-11-10T17:00:...|\"Eminem\"|\"Walk\"|\"...|17158579| 787425|   43420|       125882|https://i.ytimg.c...|            False|           False|                 False|Eminem's new trac...|\n|JzCsM1vtn78|     17.14.11|THE LOGANG MADE H...|Logan Paul Vlogs|         24|2017-11-12T20:19:...|\"logan paul vlog|...|4477587|292841|    4124|        36391|https://i.ytimg.c...|            FALSE|           FALSE|                 FALSE|Join the movement...|JzCsM1vtn78|     17.14.11|THE LOGANG MADE H...|Logan Paul Vlogs|         24|2017-11-12T20:19:...|\"logan paul vlog\"...| 4477587| 292837|    4123|        36391|https://i.ytimg.c...|            False|           False|                 False|Join the movement...|\n|0yIWz1XEeyc|     17.14.11|Jake Paul Says Al...|      DramaAlert|         25|2017-11-13T07:37:...|\"#DramaAlert|\"\"Dr...|1309699|103761|    4613|        12143|https://i.ytimg.c...|            FALSE|           FALSE|                 FALSE|► Follow for News...|0yIWz1XEeyc|     17.14.11|Jake Paul Says Al...|      DramaAlert|         25|2017-11-13T07:37:...|\"#DramaAlert\"|\"Dr...| 1309699| 103755|    4613|        12143|https://i.ytimg.c...|            False|           False|                 False|► Follow for News...|\n+-----------+-------------+--------------------+----------------+-----------+--------------------+--------------------+-------+------+--------+-------------+--------------------+-----------------+----------------+----------------------+--------------------+-----------+-------------+--------------------+----------------+-----------+--------------------+--------------------+--------+-------+--------+-------------+--------------------+-----------------+----------------+----------------------+--------------------+\nonly showing top 10 rows\n\n+-----------+-------------+--------------------+--------------------+-----------+--------------------+--------------------+-------+-----+--------+-------------+--------------------+-----------------+----------------+----------------------+--------------------+--------+-------------+-----+-------------+-----------+------------+----+-----+-----+--------+-------------+--------------+-----------------+----------------+----------------------+-----------+\n|   video_id|trending_date|               title|       channel_title|category_id|        publish_time|                tags|  views|likes|dislikes|comment_count|      thumbnail_link|comments_disabled|ratings_disabled|video_error_or_removed|         description|video_id|trending_date|title|channel_title|category_id|publish_time|tags|views|likes|dislikes|comment_count|thumbnail_link|comments_disabled|ratings_disabled|video_error_or_removed|description|\n+-----------+-------------+--------------------+--------------------+-----------+--------------------+--------------------+-------+-----+--------+-------------+--------------------+-----------------+----------------+----------------------+--------------------+--------+-------------+-----+-------------+-----------+------------+----+-----+-----+--------+-------------+--------------+-----------------+----------------+----------------------+-----------+\n|uijjYNtl_UM|     17.14.11|7 Niños Famosos Q...|  Los mejores Top 10|         24|2017-11-12T19:54:...|\"los mejores top ...| 371110|20155|     912|          766|https://i.ytimg.c...|            FALSE|           FALSE|                 FALSE|7 Niños Famosos Q...|    null|         null| null|         null|       null|        null|null| null| null|    null|         null|          null|             null|            null|                  null|       null|\n|klOV6Xh-DnI|     17.14.11|ALEXA EX-INTEGRAN...|Micky Contreras M...|         22|2017-11-13T05:11:...|     La Voz Mexico 7| 104972|  271|     174|          369|https://i.ytimg.c...|            FALSE|           FALSE|                 FALSE|ALEXA EX-INTEGRAN...|    null|         null| null|         null|       null|        null|null| null| null|    null|         null|          null|             null|            null|                  null|       null|\n|rZZEeeAVgog|     17.14.11|Franco Escamilla....|    Franco Escamilla|         23|2017-11-12T19:30:...|\"La|\"\"mesa\"\"|\"\"re...| 471516|23279|     270|          494|https://i.ytimg.c...|            FALSE|           FALSE|                 FALSE|Si, el ángulo de ...|    null|         null| null|         null|       null|        null|null| null| null|    null|         null|          null|             null|            null|                  null|       null|\n|c9VTD3n_IDs|     17.14.11|La Resolana con e...|         La Resolana|         22|2017-11-13T07:00:...|\"la resolana|\"\"la...|  75197| 2277|      69|          164|https://i.ytimg.c...|            FALSE|           FALSE|                 FALSE|Hoy en La Resolan...|    null|         null| null|         null|       null|        null|null| null| null|    null|         null|          null|             null|            null|                  null|       null|\n|6L2ZF7Qzsbk|     17.14.11|LOUIS CKAGÓ - EL ...|El Pulso De La Re...|         25|2017-11-13T17:00:...|\"Chumel Torres|\"\"...| 136064|10105|     266|          607|https://i.ytimg.c...|            FALSE|           FALSE|                 FALSE|La canción del pr...|    null|         null| null|         null|       null|        null|null| null| null|    null|         null|          null|             null|            null|                  null|       null|\n|XzULSsZYMRc|     17.14.11|M6.7 Costa Rica A...|     concienciaradio|         25|2017-11-13T06:18:...|\"terremoto|\"\"cost...| 142522| 7745|     659|            0|https://i.ytimg.c...|             TRUE|           FALSE|                 FALSE|(CR NOTICIAS NOV ...|    null|         null| null|         null|       null|        null|null| null| null|    null|         null|          null|             null|            null|                  null|       null|\n|_OXDcGPVAa4|     17.14.11|DOG HACKS | MUSAS...|               Musas|         26|2017-11-13T19:17:...|\"MUSAS|\"\"lesslie\"...| 499965|57781|     681|         7428|https://i.ytimg.c...|            FALSE|           FALSE|                 FALSE|MI HERMANO NARRA ...|    null|         null| null|         null|       null|        null|null| null| null|    null|         null|          null|             null|            null|                  null|       null|\n|cOJ68MQm2ac|     17.14.11|TOP: Los 7 libros...|        DrossRotzank|         24|2017-11-12T21:14:...|\"libros infantile...|1111314|83582|    2194|         9106|https://i.ytimg.c...|            FALSE|           FALSE|                 FALSE|Actualizo 3 veces...|    null|         null| null|         null|       null|        null|null| null| null|    null|         null|          null|             null|            null|                  null|       null|\n|Q9kK6NWZR1U|     17.14.11|Asi se sintio Ter...|MÚSICA & ENTRETEN...|         10|2017-11-12T20:17:...|              [none]| 129645|  506|      67|          239|https://i.ytimg.c...|            FALSE|           FALSE|                 FALSE|Un fuerte sismo h...|    null|         null| null|         null|       null|        null|null| null| null|    null|         null|          null|             null|            null|                  null|       null|\n|SbOwzAl9ZfQ|     17.14.11|Capítulo 12 | Mas...|     MasterChef 2017|         24|2017-11-13T06:06:...|\"MasterChef Junio...| 310130| 4182|     361|         1836|https://i.ytimg.c...|            FALSE|           FALSE|                 FALSE|Disfruta la prese...|    null|         null| null|         null|       null|        null|null| null| null|    null|         null|          null|             null|            null|                  null|       null|\n+-----------+-------------+--------------------+--------------------+-----------+--------------------+--------------------+-------+-----+--------+-------------+--------------------+-----------------+----------------+----------------------+--------------------+--------+-------------+-----+-------------+-----------+------------+----+-----+-----+--------+-------------+--------------+-----------------+----------------+----------------------+-----------+\nonly showing top 10 rows\n\n+-----------+-------------+--------------------+------------------+-----------+--------------------+--------------------+-------+------+--------+-------------+--------------------+-----------------+----------------+----------------------+--------------------+---------------+-------------+--------------------+------------------+-----------+--------------------+--------------------+-------+------+--------+-------------+--------------------+-----------------+----------------+----------------------+--------------------+\n|   video_id|trending_date|               title|     channel_title|category_id|        publish_time|                tags|  views| likes|dislikes|comment_count|      thumbnail_link|comments_disabled|ratings_disabled|video_error_or_removed|         description|       video_id|trending_date|               title|     channel_title|category_id|        publish_time|                tags|  views| likes|dislikes|comment_count|      thumbnail_link|comments_disabled|ratings_disabled|video_error_or_removed|         description|\n+-----------+-------------+--------------------+------------------+-----------+--------------------+--------------------+-------+------+--------+-------------+--------------------+-----------------+----------------+----------------------+--------------------+---------------+-------------+--------------------+------------------+-----------+--------------------+--------------------+-------+------+--------+-------------+--------------------+-----------------+----------------+----------------------+--------------------+\n|       null|         null|                null|              null|       null|                null|                null|   null|  null|    null|         null|                null|             null|            null|                  null|                null|#Kaif-e-Baharan|         null|                null|              null|       null|                null|                null|   null|  null|    null|         null|                null|             null|            null|                  null|                null|\n|       null|         null|                null|              null|       null|                null|                null|   null|  null|    null|         null|                null|             null|            null|                  null|                null|#Kaif-e-Baharan|         null|                null|              null|       null|                null|                null|   null|  null|    null|         null|                null|             null|            null|                  null|                null|\n|       null|         null|                null|              null|       null|                null|                null|   null|  null|    null|         null|                null|             null|            null|                  null|                null|#Kaif-e-Baharan|         null|                null|              null|       null|                null|                null|   null|  null|    null|         null|                null|             null|            null|                  null|                null|\n|       null|         null|                null|              null|       null|                null|                null|   null|  null|    null|         null|                null|             null|            null|                  null|                null|    -H90GPnH1q8|     17.11.12|The Walking Dead ...|         AresPromo|         24|2017-12-11T03:40:...|\"The Walking Dead...|  90508|     0|       0|         1136|https://i.ytimg.c...|            False|            True|                 False|The Walking Dead ...|\n|       null|         null|                null|              null|       null|                null|                null|   null|  null|    null|         null|                null|             null|            null|                  null|                null|    -H90GPnH1q8|     17.12.12|The Walking Dead ...|         AresPromo|         24|2017-12-11T03:40:...|\"The Walking Dead...| 616781|     0|       0|         3648|https://i.ytimg.c...|            False|            True|                 False|The Walking Dead ...|\n|       null|         null|                null|              null|       null|                null|                null|   null|  null|    null|         null|                null|             null|            null|                  null|                null|    -H90GPnH1q8|     17.13.12|The Walking Dead ...|         AresPromo|         24|2017-12-11T03:40:...|\"The Walking Dead...| 848831|     0|       0|         4717|https://i.ytimg.c...|            False|            True|                 False|The Walking Dead ...|\n|       null|         null|                null|              null|       null|                null|                null|   null|  null|    null|         null|                null|             null|            null|                  null|                null|    -H90GPnH1q8|     17.14.12|The Walking Dead ...|         AresPromo|         24|2017-12-11T03:40:...|\"The Walking Dead...| 968586|     0|       0|         4907|https://i.ytimg.c...|            False|            True|                 False|The Walking Dead ...|\n|02QdxSLdVQc|     18.24.01|8 Experimentos SO...|       Criss Huera|         22|2018-01-23T22:10:...|\"EXPERIMENTOS DIV...| 222149| 16337|     240|         2840|https://i.ytimg.c...|            FALSE|           FALSE|                 FALSE|Hoy veremos 8 int...|           null|         null|                null|              null|       null|                null|                null|   null|  null|    null|         null|                null|             null|            null|                  null|                null|\n|0Bl7xVD7Xtg|     18.24.01|Arios en el Vatic...| Revelacion Humana|         24|2018-01-24T01:00:...|\"AMLO|\"\"Andres Ma...|   8276|   698|      25|          159|https://i.ytimg.c...|            FALSE|           FALSE|                 FALSE|                null|           null|         null|                null|              null|       null|                null|                null|   null|  null|    null|         null|                null|             null|            null|                  null|                null|\n|0bXCbVGb04A|     18.11.06|Game Theory: FNAF...|The Game Theorists|         20|2018-06-10T19:05:...|\"fnaf|\"\"five nigh...|2346742|140379|    2951|        33765|https://i.ytimg.c...|            FALSE|           FALSE|                 FALSE|FNAF STUMPED Me! ...|    0bXCbVGb04A|     18.11.06|Game Theory: FNAF...|The Game Theorists|         20|2018-06-10T19:05:...|\"fnaf\"|\"five nigh...|2341772|140376|    2951|        33760|https://i.ytimg.c...|            False|           False|                 False|FNAF STUMPED Me! ...|\n+-----------+-------------+--------------------+------------------+-----------+--------------------+--------------------+-------+------+--------+-------------+--------------------+-----------------+----------------+----------------------+--------------------+---------------+-------------+--------------------+------------------+-----------+--------------------+--------------------+-------+------+--------+-------------+--------------------+-----------------+----------------+----------------------+--------------------+\nonly showing top 10 rows\n\n"
    }
   ],
   "source": [
    "mx_df.join(ca_df, mx_df.video_id == ca_df.video_id, how='right').show(10)# Igual a 'full_right'\n",
    "mx_df.join(ca_df, mx_df.video_id == ca_df.video_id, how='left').show(10)# Igual a 'full_left'\n",
    "mx_df.join(ca_df, mx_df.video_id == ca_df.video_id, how='full').show(10)# Igual a 'full_outer'"
   ]
  },
  {
   "cell_type": "markdown",
   "execution_count": null,
   "metadata": {},
   "outputs": [],
   "source": [
    "## Ejecución de queries SQL"
   ]
  },
  {
   "cell_type": "markdown",
   "execution_count": null,
   "metadata": {},
   "outputs": [],
   "source": [
    "En este caso debemos operar diectamente sobre el contexto o la sesión de spark que estemos utilizando en nuestro caso es una sesión y se ejecuta de la siguiente manera:\n",
    "\n",
    "1.Agregamos el dataframe como una vista temporal."
   ]
  },
  {
   "cell_type": "code",
   "execution_count": 21,
   "metadata": {},
   "outputs": [],
   "source": [
    "mx_df.createOrReplaceTempView('mx_table')"
   ]
  },
  {
   "cell_type": "markdown",
   "execution_count": 28,
   "metadata": {},
   "outputs": [
    {
     "data": {
      "text/plain": "[]"
     },
     "execution_count": 28,
     "metadata": {},
     "output_type": "execute_result"
    }
   ],
   "source": [
    "2. Ejecutamos el querie."
   ]
  },
  {
   "cell_type": "code",
   "execution_count": 22,
   "metadata": {},
   "outputs": [
    {
     "name": "stdout",
     "output_type": "stream",
     "text": "+-----------+\n|   video_id|\n+-----------+\n|SbOwzAl9ZfQ|\n|klOV6Xh-DnI|\n|6L2ZF7Qzsbk|\n|hcY52MFWMDM|\n|_OXDcGPVAa4|\n+-----------+\nonly showing top 5 rows\n\n"
    }
   ],
   "source": [
    "querie = 'SELECT video_id FROM mx_table'\n",
    "spark.sql(querie).show(5)"
   ]
  },
  {
   "cell_type": "markdown",
   "execution_count": null,
   "metadata": {},
   "outputs": [],
   "source": [
    "# Refefencias \n",
    "1. https://www.kaggle.com/datasnaek/youtube-new\n",
    "2. https://spark.apache.org/docs/latest/api/python/index.html"
   ]
  }
 ]
}