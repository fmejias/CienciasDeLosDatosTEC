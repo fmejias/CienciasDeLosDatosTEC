{
  "nbformat": 4,
  "nbformat_minor": 0,
  "metadata": {
    "colab": {
      "name": "TP2.ipynb",
      "version": "0.3.2",
      "provenance": [],
      "collapsed_sections": [
        "Tblj2F8swO-6",
        "6pqZBZtSTIGF",
        "fq5MUQ2zh8bi"
      ],
      "include_colab_link": true
    },
    "language_info": {
      "codemirror_mode": {
        "name": "ipython",
        "version": 3
      },
      "file_extension": ".py",
      "mimetype": "text/x-python",
      "name": "python",
      "nbconvert_exporter": "python",
      "pygments_lexer": "ipython3",
      "version": "3.5.6"
    },
    "kernelspec": {
      "display_name": "Python 3",
      "language": "python",
      "name": "python3"
    },
    "accelerator": "GPU"
  },
  "cells": [
    {
      "cell_type": "markdown",
      "metadata": {
        "id": "view-in-github",
        "colab_type": "text"
      },
      "source": [
        "<a href=\"https://colab.research.google.com/github/fmejias/CienciasDeLosDatosTEC/blob/master/TP2/TP2.ipynb\" target=\"_parent\"><img src=\"https://colab.research.google.com/assets/colab-badge.svg\" alt=\"Open In Colab\"/></a>"
      ]
    },
    {
      "cell_type": "markdown",
      "metadata": {
        "colab_type": "text",
        "id": "jYQE37rOc539"
      },
      "source": [
        "# Matemáticas para Ciencias de los Datos\n",
        "# Trabajo práctico 2\n",
        "\n",
        "- Professor: M.Sc.Saul Calderon.\n",
        "\n",
        "- Students: \n",
        "    - María Auxiliadora Mora, Instituto Tecnológico de Costa Rica  \n",
        "    - Felipe Alberto Mejías Loría, Instituto Tecnológico de Costa Rica. \n",
        "\n",
        "- June 1th, 2019   "
      ]
    },
    {
      "cell_type": "code",
      "metadata": {
        "colab_type": "code",
        "id": "jGgKy32qS_2U",
        "colab": {}
      },
      "source": [
        "# Libraries required for the exercises\n",
        "import torch as torch\n",
        "import numpy as np\n",
        "import random\n",
        "import math\n",
        "\n",
        "from torch.distributions import constraints\n",
        "from torch.distributions.distribution import Distribution\n",
        "from torch.distributions.utils import _standard_normal, lazy_property\n",
        "\n",
        "import torch.distributions as distrib\n",
        "\n",
        "from mpl_toolkits.mplot3d import Axes3D\n",
        "import matplotlib.pyplot as plt"
      ],
      "execution_count": 0,
      "outputs": []
    },
    {
      "cell_type": "markdown",
      "metadata": {
        "colab_type": "text",
        "id": "8chJbeF0dXmO"
      },
      "source": [
        "# 1) Generar puntos plano (20 puntos)\n",
        "\n"
      ]
    },
    {
      "cell_type": "code",
      "metadata": {
        "colab_type": "code",
        "id": "K_SXtYheNn9E",
        "outputId": "a72aa086-c2a4-46b7-a7ec-a6289c25f19a",
        "colab": {
          "base_uri": "https://localhost:8080/",
          "height": 422
        }
      },
      "source": [
        "# Exercise 1\n",
        "def generarPuntosPlano(n=20, mean=0, standardDeviation=0.05):\n",
        "  \"\"\"\n",
        "  This function calculates a dataset and the plot them in 3D\n",
        "  n: number of points\n",
        "  mean: mean for the Gaussian distribution\n",
        "  standardDeviation: standardDeviation for the Gaussian distribution\n",
        "  return a plot in 3D of the dataset\n",
        "  \"\"\"\n",
        "  \n",
        "  def scatterPlotDataset3D(x, y ,z, epsilon):\n",
        "    \"\"\"\n",
        "    Scatter plot the dataset\n",
        "    param dataset: dataset to plot  \n",
        "    \"\"\"\n",
        "    fig = plt.figure()\n",
        "    ax = fig.add_subplot(111, projection='3d')\n",
        "\n",
        "    # Create 2D tensors with variation along the two axis\n",
        "    X,Y = torch.meshgrid(x, y)\n",
        "\n",
        "    # Compute hiperplane function to scattered all plane\n",
        "    Z = 0.2 * X + Y + epsilon\n",
        "    \n",
        "    # Scattered all plane\n",
        "    ax.scatter(X.numpy(), Y.numpy(), Z.numpy(), c='b', marker='.')\n",
        "    \n",
        "    # Scattered n points\n",
        "    ax.scatter(x.numpy(), y.numpy(), z.numpy(), s=50, c='r', marker='o')\n",
        "\n",
        "    ax.set_xlabel('X Label')\n",
        "    ax.set_ylabel('Y Label')\n",
        "    ax.set_zlabel('Z Label')\n",
        "\n",
        "    plt.show()\n",
        "    \n",
        "  def epsilon():\n",
        "    \"\"\"\n",
        "    Create Dataset with gaussian distribution\n",
        "    param numSamples, number of samples\n",
        "    \"\"\"\n",
        "    #create Gaussian distribution\n",
        "    distribution = distrib.Normal(mean, standardDeviation)\n",
        "    #create dataset from distribution\n",
        "    return distribution.sample((n,))\n",
        "  \n",
        "  def plottingPlane():\n",
        "    \n",
        "    # Create 1D tensors x and y\n",
        "    x = torch.arange(3, 15, 0.6)\n",
        "    y = torch.arange(20, 150, 6.5)\n",
        "    e = epsilon()\n",
        "    \n",
        "    # Hiperplane function\n",
        "    z = 0.2 * x + y + e\n",
        "    \n",
        "    # Save points on a Matrix X\n",
        "    matrixX = [x, y , z]\n",
        "    matrixX = torch.stack(matrixX)\n",
        "    print(\"Matrix X: \\n\", matrixX)\n",
        "    \n",
        "    # Scattered points in the plane\n",
        "    scatterPlotDataset3D(x ,y, z, e)\n",
        "    \n",
        "    return matrixX\n",
        "    \n",
        "  # Plot the dataset  \n",
        "  return plottingPlane()\n",
        "  \n",
        "  \n",
        "# Test exercise 1\n",
        "matrizX = generarPuntosPlano()\n",
        "\n"
      ],
      "execution_count": 83,
      "outputs": [
        {
          "output_type": "stream",
          "text": [
            "Matrix X: \n",
            " tensor([[  3.0000,   3.6000,   4.2000,   4.8000,   5.4000,   6.0000,   6.6000,\n",
            "           7.2000,   7.8000,   8.4000,   9.0000,   9.6000,  10.2000,  10.8000,\n",
            "          11.4000,  12.0000,  12.6000,  13.2000,  13.8000,  14.4000],\n",
            "        [ 20.0000,  26.5000,  33.0000,  39.5000,  46.0000,  52.5000,  59.0000,\n",
            "          65.5000,  72.0000,  78.5000,  85.0000,  91.5000,  98.0000, 104.5000,\n",
            "         111.0000, 117.5000, 124.0000, 130.5000, 137.0000, 143.5000],\n",
            "        [ 20.6629,  27.2689,  33.9030,  40.4084,  47.0417,  53.6851,  60.2983,\n",
            "          66.9784,  73.5027,  80.2253,  86.7664,  93.4084, 100.0690, 106.6979,\n",
            "         113.2525, 119.9425, 126.5771, 133.1572, 139.6841, 146.4293]])\n"
          ],
          "name": "stdout"
        },
        {
          "output_type": "display_data",
          "data": {
            "image/png": "[encoded data removed]",
            "text/plain": [
              "<Figure size 432x288 with 1 Axes>"
            ]
          },
          "metadata": {
            "tags": []
          }
        }
      ]
    },
    {
      "cell_type": "markdown",
      "metadata": {
        "colab_type": "text",
        "id": "Tblj2F8swO-6"
      },
      "source": [
        "# 2) Calcular EigenVectores y Valores (30 puntos)"
      ]
    },
    {
      "cell_type": "code",
      "metadata": {
        "colab_type": "code",
        "id": "EL9t6NiMwO-9",
        "outputId": "220fceda-2c9c-4de3-fe56-5db5af25dcc0",
        "colab": {
          "base_uri": "https://localhost:8080/",
          "height": 382
        }
      },
      "source": [
        "## Exercise 4\n",
        "def checkMatrixPropertyExercise4(A, x):\n",
        "    \"\"\"\n",
        "    Evaluate the property of matrices and vectors described in Exercise 4.\n",
        "    A: squared matrix of size n.\n",
        "    x: vector of size 1 x n.\n",
        "    Return: 1 if the equation of question 4 is true \n",
        "            otherwise it returns 0.\n",
        "    \"\"\"\n",
        "    # Calculate a symmetric matrix using A   \n",
        "    S = 0.5* A + 0.5* A.transpose(0, 1)\n",
        "    print(\"Matriz transpuesta\", S)\n",
        "    \n",
        "    #Calculate the transpose of x. \n",
        "    w2Drow = x.reshape(-1, x.shape[0])\n",
        "    xT = w2Drow.transpose(0, 1)\n",
        "    \n",
        "    ## 1- Calculate the equation's left side \n",
        "    # Matrix - vector product\n",
        "    SxT = S.mm(xT)     \n",
        "    product = (x * SxT.reshape(-1, SxT.shape[0])[0, :])\n",
        "    \n",
        "    #Product transpose \n",
        "    w2Drow = product.reshape(-1, product.shape[0])\n",
        "    left = w2Drow.transpose(0, 1).sum()\n",
        "    print(\"Lado izquierdo de la ecuación: \", left)\n",
        "    \n",
        "    \n",
        "    ## 2 - Calculate the rigth side\n",
        "    # Matrix - vector product\n",
        "    SxT = S.mm(xT)     \n",
        "    right = (x * SxT.reshape(-1, SxT.shape[0])[0, :]).sum()\n",
        "    print(\"Lado derecho de la ecuación: \", right)\n",
        "    \n",
        "    return (left - right).sum() <  0.1e-5\n",
        "\n",
        "\n",
        "# Test Exercise 4 using a ramdon matrix\n",
        "# Generates a random number between \n",
        "# a given positive range \n",
        "n = random.randint(3, 10) \n",
        "\n",
        "A = torch.randn(n,n)\n",
        "x = torch.randn(n)\n",
        "\n",
        "print(\"Resultado ejercicio 4: \", checkMatrixPropertyExercise4(A, x))\n",
        "\n"
      ],
      "execution_count": 0,
      "outputs": [
        {
          "output_type": "stream",
          "text": [
            "Matriz transpuesta tensor([[-1.5883, -1.1411,  0.6409,  0.1437,  1.2537, -1.3886, -1.5240,  0.0328,\n",
            "          0.8320],\n",
            "        [-1.1411,  1.0079, -0.1832,  0.2861,  0.4783,  0.6423, -0.6522, -0.5614,\n",
            "          0.1148],\n",
            "        [ 0.6409, -0.1832,  0.4207,  0.1962,  0.8662,  0.6447, -0.4144,  1.1734,\n",
            "          0.5646],\n",
            "        [ 0.1437,  0.2861,  0.1962, -0.0808, -0.2412, -0.1028,  0.6016,  0.5373,\n",
            "          1.1485],\n",
            "        [ 1.2537,  0.4783,  0.8662, -0.2412,  0.7078,  0.2802,  0.2215,  0.5603,\n",
            "          0.8547],\n",
            "        [-1.3886,  0.6423,  0.6447, -0.1028,  0.2802, -1.1723, -0.1855, -0.0054,\n",
            "          0.4630],\n",
            "        [-1.5240, -0.6522, -0.4144,  0.6016,  0.2215, -0.1855, -0.2392, -0.6636,\n",
            "         -1.1807],\n",
            "        [ 0.0328, -0.5614,  1.1734,  0.5373,  0.5603, -0.0054, -0.6636,  0.3880,\n",
            "          0.6020],\n",
            "        [ 0.8320,  0.1148,  0.5646,  1.1485,  0.8547,  0.4630, -1.1807,  0.6020,\n",
            "          0.1373]])\n",
            "tensor(-14.1173)\n",
            "tensor(-14.1173)\n",
            "Resultado ejercicio 4:  tensor(1, dtype=torch.uint8)\n"
          ],
          "name": "stdout"
        }
      ]
    },
    {
      "cell_type": "markdown",
      "metadata": {
        "colab_type": "text",
        "id": "6pqZBZtSTIGF"
      },
      "source": [
        "# 4) Reducir la dimensionalidad de un dataset (40 puntos)"
      ]
    },
    {
      "cell_type": "code",
      "metadata": {
        "colab_type": "code",
        "id": "N8KOGkIdTIGL",
        "outputId": "9d72ec2c-72b2-4604-99b2-58d7cddbce4e",
        "colab": {
          "base_uri": "https://localhost:8080/",
          "height": 208
        }
      },
      "source": [
        "## Exercise 6\n",
        "def covariance(A) :\n",
        "    \"\"\"\n",
        "    Calculate the covariance of a matrix \n",
        "    A: Matrix with the set of samples.\n",
        "    Return: The covariance matrix of A\n",
        "    \"\"\"\n",
        "    # the rows mean of A  \n",
        "    AMean= A.mean(1)\n",
        "\n",
        "    #1 / (Number of samples - 1)\n",
        "    n = (1/(A.shape[1]-1))\n",
        "    \n",
        "    #Calculate the transpose of the rows mean. \n",
        "    w2Drow = AMean.reshape(-1, AMean.shape[0])\n",
        "    AMeanT = w2Drow.transpose(0, 1)\n",
        "    \n",
        "    \n",
        "    # Calculate the mean of A minus A.\n",
        "    UA = AMeanT - A\n",
        "    \n",
        "    # Compute the UA transpose. \n",
        "    UAT= UA.transpose(0,1)\n",
        "    \n",
        "    # Covariance of A\n",
        "    Cov = n * UA.mm(UAT)\n",
        "  \n",
        "    return Cov\n",
        "\n",
        "\n",
        "# Test the covariance fuction.\n",
        "\n",
        "#Test using the example matrix\n",
        "A = torch.tensor([[2.0, 4.0, 6.0, 8.0], [4.0, 8.0, 12.0, 16.0], [12.0, 10.0, 5.0, 9.0]])\n",
        "\n",
        "CovA = covariance(A)\n",
        "\n",
        "print(\"Matriz de covarianza del ejemplo:\", CovA)\n",
        "\n",
        "\n",
        "#Test using a random matriz \n",
        "\n",
        "# Generates a random number between \n",
        "# a given positive range \n",
        "n = random.randint(3, 10) \n",
        "\n",
        "A = torch.randn(n,n)\n",
        "\n",
        "CovA = covariance(A)\n",
        "\n",
        "print(\"Matriz de covarianza a partir de matriz aleatoria:\", CovA)\n",
        "\n"
      ],
      "execution_count": 0,
      "outputs": [
        {
          "output_type": "stream",
          "text": [
            "Matriz de covarianza del ejemplo: tensor([[ 6.6667, 13.3333, -4.6667],\n",
            "        [13.3333, 26.6667, -9.3333],\n",
            "        [-4.6667, -9.3333,  8.6667]])\n",
            "Matriz de covarianza a partir de matriz aleatoria: tensor([[ 0.6337,  0.0489, -0.1220,  0.4818, -0.0104, -0.0836,  0.0942,  0.2376],\n",
            "        [ 0.0489,  1.6595,  0.0794,  0.1641, -1.0533,  0.0221, -0.8066,  0.1134],\n",
            "        [-0.1220,  0.0794,  1.4599, -0.2234,  0.4485, -0.1599, -0.2764,  0.1171],\n",
            "        [ 0.4818,  0.1641, -0.2234,  0.6797, -0.4490, -0.0366, -0.0391,  0.1368],\n",
            "        [-0.0104, -1.0533,  0.4485, -0.4490,  1.2842, -0.1240,  0.4691, -0.2210],\n",
            "        [-0.0836,  0.0221, -0.1599, -0.0366, -0.1240,  0.1233,  0.1768,  0.0722],\n",
            "        [ 0.0942, -0.8066, -0.2764, -0.0391,  0.4691,  0.1768,  1.3331,  0.2945],\n",
            "        [ 0.2376,  0.1134,  0.1171,  0.1368, -0.2210,  0.0722,  0.2945,  0.7807]])\n"
          ],
          "name": "stdout"
        }
      ]
    },
    {
      "cell_type": "markdown",
      "metadata": {
        "colab_type": "text",
        "id": "fq5MUQ2zh8bi"
      },
      "source": [
        "# 5) Calcular el error utilizando dos autovectores (30 puntos)"
      ]
    },
    {
      "cell_type": "code",
      "metadata": {
        "colab_type": "code",
        "outputId": "220fceda-2c9c-4de3-fe56-5db5af25dcc0",
        "id": "-KCmtLcjh8bp",
        "colab": {
          "base_uri": "https://localhost:8080/",
          "height": 382
        }
      },
      "source": [
        "## Exercise 4\n",
        "def checkMatrixPropertyExercise4(A, x):\n",
        "    \"\"\"\n",
        "    Evaluate the property of matrices and vectors described in Exercise 4.\n",
        "    A: squared matrix of size n.\n",
        "    x: vector of size 1 x n.\n",
        "    Return: 1 if the equation of question 4 is true \n",
        "            otherwise it returns 0.\n",
        "    \"\"\"\n",
        "    # Calculate a symmetric matrix using A   \n",
        "    S = 0.5* A + 0.5* A.transpose(0, 1)\n",
        "    print(\"Matriz transpuesta\", S)\n",
        "    \n",
        "    #Calculate the transpose of x. \n",
        "    w2Drow = x.reshape(-1, x.shape[0])\n",
        "    xT = w2Drow.transpose(0, 1)\n",
        "    \n",
        "    ## 1- Calculate the equation's left side \n",
        "    # Matrix - vector product\n",
        "    SxT = S.mm(xT)     \n",
        "    product = (x * SxT.reshape(-1, SxT.shape[0])[0, :])\n",
        "    \n",
        "    #Product transpose \n",
        "    w2Drow = product.reshape(-1, product.shape[0])\n",
        "    left = w2Drow.transpose(0, 1).sum()\n",
        "    print(\"Lado izquierdo de la ecuación: \", left)\n",
        "    \n",
        "    \n",
        "    ## 2 - Calculate the rigth side\n",
        "    # Matrix - vector product\n",
        "    SxT = S.mm(xT)     \n",
        "    right = (x * SxT.reshape(-1, SxT.shape[0])[0, :]).sum()\n",
        "    print(\"Lado derecho de la ecuación: \", right)\n",
        "    \n",
        "    return (left - right).sum() <  0.1e-5\n",
        "\n",
        "\n",
        "# Test Exercise 4 using a ramdon matrix\n",
        "# Generates a random number between \n",
        "# a given positive range \n",
        "n = random.randint(3, 10) \n",
        "\n",
        "A = torch.randn(n,n)\n",
        "x = torch.randn(n)\n",
        "\n",
        "print(\"Resultado ejercicio 4: \", checkMatrixPropertyExercise4(A, x))\n",
        "\n"
      ],
      "execution_count": 0,
      "outputs": [
        {
          "output_type": "stream",
          "text": [
            "Matriz transpuesta tensor([[-1.5883, -1.1411,  0.6409,  0.1437,  1.2537, -1.3886, -1.5240,  0.0328,\n",
            "          0.8320],\n",
            "        [-1.1411,  1.0079, -0.1832,  0.2861,  0.4783,  0.6423, -0.6522, -0.5614,\n",
            "          0.1148],\n",
            "        [ 0.6409, -0.1832,  0.4207,  0.1962,  0.8662,  0.6447, -0.4144,  1.1734,\n",
            "          0.5646],\n",
            "        [ 0.1437,  0.2861,  0.1962, -0.0808, -0.2412, -0.1028,  0.6016,  0.5373,\n",
            "          1.1485],\n",
            "        [ 1.2537,  0.4783,  0.8662, -0.2412,  0.7078,  0.2802,  0.2215,  0.5603,\n",
            "          0.8547],\n",
            "        [-1.3886,  0.6423,  0.6447, -0.1028,  0.2802, -1.1723, -0.1855, -0.0054,\n",
            "          0.4630],\n",
            "        [-1.5240, -0.6522, -0.4144,  0.6016,  0.2215, -0.1855, -0.2392, -0.6636,\n",
            "         -1.1807],\n",
            "        [ 0.0328, -0.5614,  1.1734,  0.5373,  0.5603, -0.0054, -0.6636,  0.3880,\n",
            "          0.6020],\n",
            "        [ 0.8320,  0.1148,  0.5646,  1.1485,  0.8547,  0.4630, -1.1807,  0.6020,\n",
            "          0.1373]])\n",
            "tensor(-14.1173)\n",
            "tensor(-14.1173)\n",
            "Resultado ejercicio 4:  tensor(1, dtype=torch.uint8)\n"
          ],
          "name": "stdout"
        }
      ]
    }
  ]
}