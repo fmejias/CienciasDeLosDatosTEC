{
  "nbformat": 4,
  "nbformat_minor": 0,
  "metadata": {
    "colab": {
      "name": "TP1.ipynb",
      "version": "0.3.2",
      "provenance": [],
      "collapsed_sections": [
        "8chJbeF0dXmO",
        "Tblj2F8swO-6",
        "6pqZBZtSTIGF"
      ],
      "include_colab_link": true
    },
    "language_info": {
      "codemirror_mode": {
        "name": "ipython",
        "version": 3
      },
      "file_extension": ".py",
      "mimetype": "text/x-python",
      "name": "python",
      "nbconvert_exporter": "python",
      "pygments_lexer": "ipython3",
      "version": "3.5.6"
    },
    "kernelspec": {
      "display_name": "Python 3",
      "language": "python",
      "name": "python3"
    },
    "accelerator": "GPU"
  },
  "cells": [
    {
      "cell_type": "markdown",
      "metadata": {
        "id": "view-in-github",
        "colab_type": "text"
      },
      "source": [
        "<a href=\"https://colab.research.google.com/github/fmejias/CienciasDeLosDatosTEC/blob/master/TP1/TP1.ipynb\" target=\"_parent\"><img src=\"https://colab.research.google.com/assets/colab-badge.svg\" alt=\"Open In Colab\"/></a>"
      ]
    },
    {
      "cell_type": "markdown",
      "metadata": {
        "colab_type": "text",
        "id": "jYQE37rOc539"
      },
      "source": [
        "# Matemáticas para Ciencias de los Datos\n",
        "# Trabajo práctico 1\n",
        "\n",
        "- Professor: M.Sc.Saul Calderon.\n",
        "\n",
        "- Students: \n",
        "    - María Auxiliadora Mora, Instituto Tecnológico de Costa Rica  \n",
        "    - Felipe Alberto Mejías Loría, Instituto Tecnológico de Costa Rica. \n",
        "\n",
        "- May 26th, 2019   "
      ]
    },
    {
      "cell_type": "code",
      "metadata": {
        "colab_type": "code",
        "id": "jGgKy32qS_2U",
        "colab": {}
      },
      "source": [
        "# Libraries required for the exercises\n",
        "import torch as torch\n",
        "import numpy as np\n",
        "import random "
      ],
      "execution_count": 0,
      "outputs": []
    },
    {
      "cell_type": "markdown",
      "metadata": {
        "colab_type": "text",
        "id": "8chJbeF0dXmO"
      },
      "source": [
        "# 1) Calcular traza de una matriz (20 puntos)\n",
        "\n"
      ]
    },
    {
      "cell_type": "code",
      "metadata": {
        "colab_type": "code",
        "id": "K_SXtYheNn9E",
        "outputId": "3bb96f0b-3c63-4106-8e40-2cddd7ae2ee6",
        "colab": {
          "base_uri": "https://localhost:8080/",
          "height": 87
        }
      },
      "source": [
        "# Exercise 1\n",
        "def calcularTrazaMatriz(A):\n",
        "  \"\"\"\n",
        "  This function calculates the trace of a matrix\n",
        "  A: input matrix\n",
        "  return the trace of a matrix\n",
        "  \"\"\"\n",
        "  matrixDimensions = list(A.size())\n",
        "  matrixIdentity   = torch.eye(matrixDimensions[0])\n",
        "  \n",
        "  return (A * matrixIdentity).sum()\n",
        "  \n",
        "  \n",
        "# Test exercise 1\n",
        "matrixA = torch.tensor([[1.0, 5.0, 2.0], [0.0, 1.0, 2.0], [3.0, 1.0, 0.0]])\n",
        "print(\"a) Traza de la matriz: %s, resultado del calculo: %s\\n\" % (matrixA, calcularTrazaMatriz(matrixA)))\n",
        "\n"
      ],
      "execution_count": 0,
      "outputs": [
        {
          "output_type": "stream",
          "text": [
            "a) Traza de la matriz: tensor([[1., 5., 2.],\n",
            "        [0., 1., 2.],\n",
            "        [3., 1., 0.]]), resultado del calculo: tensor(2.)\n",
            "\n"
          ],
          "name": "stdout"
        }
      ]
    },
    {
      "cell_type": "markdown",
      "metadata": {
        "colab_type": "text",
        "id": "Tblj2F8swO-6"
      },
      "source": [
        "# 4) Matriz Simétrica (20 puntos)"
      ]
    },
    {
      "cell_type": "code",
      "metadata": {
        "colab_type": "code",
        "id": "EL9t6NiMwO-9",
        "outputId": "220fceda-2c9c-4de3-fe56-5db5af25dcc0",
        "colab": {
          "base_uri": "https://localhost:8080/",
          "height": 382
        }
      },
      "source": [
        "## Exercise 4\n",
        "def checkMatrixPropertyExercise4(A, x):\n",
        "    \"\"\"\n",
        "    Evaluate the property of matrices and vectors described in Exercise 4.\n",
        "    A: squared matrix of size n.\n",
        "    x: vector of size 1 x n.\n",
        "    Return: 1 if the equation of question 4 is true \n",
        "            otherwise it returns 0.\n",
        "    \"\"\"\n",
        "    # Calculate a symmetric matrix using A   \n",
        "    S = 0.5* A + 0.5* A.transpose(0, 1)\n",
        "    print(\"Matriz transpuesta\", S)\n",
        "    \n",
        "    #Calculate the transpose of x. \n",
        "    w2Drow = x.reshape(-1, x.shape[0])\n",
        "    xT = w2Drow.transpose(0, 1)\n",
        "    \n",
        "    ## 1- Calculate the equation's left side \n",
        "    # Matrix - vector product\n",
        "    SxT = S.mm(xT)     \n",
        "    product = (x * SxT.reshape(-1, SxT.shape[0])[0, :])\n",
        "    \n",
        "    #Product transpose \n",
        "    w2Drow = product.reshape(-1, product.shape[0])\n",
        "    left = w2Drow.transpose(0, 1).sum()\n",
        "    print(left)\n",
        "    \n",
        "    \n",
        "    ## 2 - Calculate the rigth side\n",
        "    # Matrix - vector product\n",
        "    SxT = S.mm(xT)     \n",
        "    right = (x * SxT.reshape(-1, SxT.shape[0])[0, :]).sum()\n",
        "    print(right)\n",
        "    \n",
        "    return (left - right).sum() <  0.1e-5\n",
        "\n",
        "\n",
        "# Test Exercise 4 using a ramdon matrix\n",
        "# Generates a random number between \n",
        "# a given positive range \n",
        "n = random.randint(3, 10) \n",
        "\n",
        "A = torch.randn(n,n)\n",
        "x = torch.randn(n)\n",
        "\n",
        "print(\"Resultado ejercicio 4: \", checkMatrixPropertyExercise4(A, x))\n",
        "\n"
      ],
      "execution_count": 14,
      "outputs": [
        {
          "output_type": "stream",
          "text": [
            "Matriz transpuesta tensor([[-1.5883, -1.1411,  0.6409,  0.1437,  1.2537, -1.3886, -1.5240,  0.0328,\n",
            "          0.8320],\n",
            "        [-1.1411,  1.0079, -0.1832,  0.2861,  0.4783,  0.6423, -0.6522, -0.5614,\n",
            "          0.1148],\n",
            "        [ 0.6409, -0.1832,  0.4207,  0.1962,  0.8662,  0.6447, -0.4144,  1.1734,\n",
            "          0.5646],\n",
            "        [ 0.1437,  0.2861,  0.1962, -0.0808, -0.2412, -0.1028,  0.6016,  0.5373,\n",
            "          1.1485],\n",
            "        [ 1.2537,  0.4783,  0.8662, -0.2412,  0.7078,  0.2802,  0.2215,  0.5603,\n",
            "          0.8547],\n",
            "        [-1.3886,  0.6423,  0.6447, -0.1028,  0.2802, -1.1723, -0.1855, -0.0054,\n",
            "          0.4630],\n",
            "        [-1.5240, -0.6522, -0.4144,  0.6016,  0.2215, -0.1855, -0.2392, -0.6636,\n",
            "         -1.1807],\n",
            "        [ 0.0328, -0.5614,  1.1734,  0.5373,  0.5603, -0.0054, -0.6636,  0.3880,\n",
            "          0.6020],\n",
            "        [ 0.8320,  0.1148,  0.5646,  1.1485,  0.8547,  0.4630, -1.1807,  0.6020,\n",
            "          0.1373]])\n",
            "tensor(-14.1173)\n",
            "tensor(-14.1173)\n",
            "Resultado ejercicio 4:  tensor(1, dtype=torch.uint8)\n"
          ],
          "name": "stdout"
        }
      ]
    },
    {
      "cell_type": "markdown",
      "metadata": {
        "colab_type": "text",
        "id": "6pqZBZtSTIGF"
      },
      "source": [
        "# 6) Matriz de covarianza (20 puntos)"
      ]
    },
    {
      "cell_type": "code",
      "metadata": {
        "colab_type": "code",
        "id": "N8KOGkIdTIGL",
        "outputId": "9d72ec2c-72b2-4604-99b2-58d7cddbce4e",
        "colab": {
          "base_uri": "https://localhost:8080/",
          "height": 208
        }
      },
      "source": [
        "## Exercise 6\n",
        "def covariance(A) :\n",
        "    \"\"\"\n",
        "    Calculate the covariance of a matrix \n",
        "    A: Matrix with the set of samples.\n",
        "    Return: The covariance matrix of A\n",
        "    \"\"\"\n",
        "    # the rows mean of A  \n",
        "    AMean= A.mean(1)\n",
        "\n",
        "    #1 / (Number of samples - 1)\n",
        "    n = (1/(A.shape[1]-1))\n",
        "    \n",
        "    #Calculate the transpose of the rows mean. \n",
        "    w2Drow = AMean.reshape(-1, AMean.shape[0])\n",
        "    AMeanT = w2Drow.transpose(0, 1)\n",
        "    \n",
        "    \n",
        "    # Calculate the mean of A minus A.\n",
        "    UA = AMeanT - A\n",
        "    \n",
        "    # Compute the UA transpose. \n",
        "    UAT= UA.transpose(0,1)\n",
        "    \n",
        "    # Covariance of A\n",
        "    Cov = n * UA.mm(UAT)\n",
        "  \n",
        "    return Cov\n",
        "\n",
        "\n",
        "# Test the covariance fuction.\n",
        "\n",
        "#Test using the example matrix\n",
        "A = torch.tensor([[2.0, 4.0, 6.0, 8.0], [4.0, 8.0, 12.0, 16.0], [12.0, 10.0, 5.0, 9.0]])\n",
        "\n",
        "CovA = covariance(A)\n",
        "\n",
        "print(\"Matriz de covarianza del ejemplo:\", CovA)\n",
        "\n",
        "\n",
        "#Test using a random matriz \n",
        "\n",
        "# Generates a random number between \n",
        "# a given positive range \n",
        "n = random.randint(3, 10) \n",
        "\n",
        "A = torch.randn(n,n)\n",
        "\n",
        "CovA = covariance(A)\n",
        "\n",
        "print(\"Matriz de covarianza a partir de matriz aleatoria:\", CovA)\n",
        "\n"
      ],
      "execution_count": 20,
      "outputs": [
        {
          "output_type": "stream",
          "text": [
            "Matriz de covarianza del ejemplo: tensor([[ 6.6667, 13.3333, -4.6667],\n",
            "        [13.3333, 26.6667, -9.3333],\n",
            "        [-4.6667, -9.3333,  8.6667]])\n",
            "Matriz de covarianza a partir de matriz aleatoria: tensor([[ 0.6337,  0.0489, -0.1220,  0.4818, -0.0104, -0.0836,  0.0942,  0.2376],\n",
            "        [ 0.0489,  1.6595,  0.0794,  0.1641, -1.0533,  0.0221, -0.8066,  0.1134],\n",
            "        [-0.1220,  0.0794,  1.4599, -0.2234,  0.4485, -0.1599, -0.2764,  0.1171],\n",
            "        [ 0.4818,  0.1641, -0.2234,  0.6797, -0.4490, -0.0366, -0.0391,  0.1368],\n",
            "        [-0.0104, -1.0533,  0.4485, -0.4490,  1.2842, -0.1240,  0.4691, -0.2210],\n",
            "        [-0.0836,  0.0221, -0.1599, -0.0366, -0.1240,  0.1233,  0.1768,  0.0722],\n",
            "        [ 0.0942, -0.8066, -0.2764, -0.0391,  0.4691,  0.1768,  1.3331,  0.2945],\n",
            "        [ 0.2376,  0.1134,  0.1171,  0.1368, -0.2210,  0.0722,  0.2945,  0.7807]])\n"
          ],
          "name": "stdout"
        }
      ]
    }
  ]
}