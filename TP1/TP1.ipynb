{
  "nbformat": 4,
  "nbformat_minor": 0,
  "metadata": {
    "colab": {
      "name": "TP1.ipynb",
      "version": "0.3.2",
      "provenance": [],
      "collapsed_sections": [
        "8chJbeF0dXmO",
        "Tblj2F8swO-6",
        "6pqZBZtSTIGF"
      ],
      "include_colab_link": true
    },
    "language_info": {
      "codemirror_mode": {
        "name": "ipython",
        "version": 3
      },
      "file_extension": ".py",
      "mimetype": "text/x-python",
      "name": "python",
      "nbconvert_exporter": "python",
      "pygments_lexer": "ipython3",
      "version": "3.5.6"
    },
    "kernelspec": {
      "display_name": "Python 3",
      "language": "python",
      "name": "python3"
    },
    "accelerator": "GPU"
  },
  "cells": [
    {
      "cell_type": "markdown",
      "metadata": {
        "id": "view-in-github",
        "colab_type": "text"
      },
      "source": [
        "<a href=\"https://colab.research.google.com/github/fmejias/CienciasDeLosDatosTEC/blob/master/TP1/TP1.ipynb\" target=\"_parent\"><img src=\"https://colab.research.google.com/assets/colab-badge.svg\" alt=\"Open In Colab\"/></a>"
      ]
    },
    {
      "cell_type": "markdown",
      "metadata": {
        "colab_type": "text",
        "id": "jYQE37rOc539"
      },
      "source": [
        "# Matemáticas para Ciencias de los Datos\n",
        "# Trabajo práctico 1\n",
        "\n",
        "- Professor: M.Sc.Saul Calderon.\n",
        "\n",
        "- Students: \n",
        "    - María Auxiliadora Mora, Instituto Tecnológico de Costa Rica  \n",
        "    - Felipe Alberto Mejías Loría, Instituto Tecnológico de Costa Rica. \n",
        "\n",
        "- May 26th, 2019   "
      ]
    },
    {
      "cell_type": "code",
      "metadata": {
        "colab_type": "code",
        "id": "jGgKy32qS_2U",
        "colab": {}
      },
      "source": [
        "# Libraries required for the exercises\n",
        "import torch as torch\n",
        "import numpy as np"
      ],
      "execution_count": 0,
      "outputs": []
    },
    {
      "cell_type": "markdown",
      "metadata": {
        "colab_type": "text",
        "id": "8chJbeF0dXmO"
      },
      "source": [
        "# 1) Calcular traza de una matriz (20 puntos)\n",
        "\n"
      ]
    },
    {
      "cell_type": "code",
      "metadata": {
        "colab_type": "code",
        "id": "K_SXtYheNn9E",
        "colab": {
          "base_uri": "https://localhost:8080/",
          "height": 87
        },
        "outputId": "3bb96f0b-3c63-4106-8e40-2cddd7ae2ee6"
      },
      "source": [
        "# Exercise 1\n",
        "def calcularTrazaMatriz(A):\n",
        "  \"\"\"\n",
        "  This function calculates the trace of a matrix\n",
        "  A: input matrix\n",
        "  return the trace of a matrix\n",
        "  \"\"\"\n",
        "  matrixDimensions = list(A.size())\n",
        "  matrixIdentity   = torch.eye(matrixDimensions[0])\n",
        "  \n",
        "  return (A * matrixIdentity).sum()\n",
        "  \n",
        "  \n",
        "# Test exercise 1\n",
        "matrixA = torch.tensor([[1.0, 5.0, 2.0], [0.0, 1.0, 2.0], [3.0, 1.0, 0.0]])\n",
        "print(\"a) Traza de la matriz: %s, resultado del calculo: %s\\n\" % (matrixA, calcularTrazaMatriz(matrixA)))\n",
        "\n"
      ],
      "execution_count": 4,
      "outputs": [
        {
          "output_type": "stream",
          "text": [
            "a) Traza de la matriz: tensor([[1., 5., 2.],\n",
            "        [0., 1., 2.],\n",
            "        [3., 1., 0.]]), resultado del calculo: tensor(2.)\n",
            "\n"
          ],
          "name": "stdout"
        }
      ]
    },
    {
      "cell_type": "markdown",
      "metadata": {
        "colab_type": "text",
        "id": "Tblj2F8swO-6"
      },
      "source": [
        "# 4) Matriz Simétrica (20 puntos)"
      ]
    },
    {
      "cell_type": "code",
      "metadata": {
        "colab_type": "code",
        "id": "EL9t6NiMwO-9",
        "colab": {}
      },
      "source": [
        "## Exercise 4\n",
        "def exercise_4():\n",
        "  \"\"\"\n",
        "  Exercise 4\n",
        "  \"\"\"\n",
        "  \n",
        "# Test exercise 4\n",
        "exercise_4()\n",
        "\n"
      ],
      "execution_count": 0,
      "outputs": []
    },
    {
      "cell_type": "markdown",
      "metadata": {
        "colab_type": "text",
        "id": "6pqZBZtSTIGF"
      },
      "source": [
        "# 6) Matriz de covarianza (20 puntos)"
      ]
    },
    {
      "cell_type": "code",
      "metadata": {
        "colab_type": "code",
        "id": "N8KOGkIdTIGL",
        "colab": {}
      },
      "source": [
        "## Exercise 6\n",
        "def exercise_6():\n",
        "  \"\"\"\n",
        "  Exercise 6\n",
        "  \"\"\"\n",
        "  \n",
        "# Test exercise 6\n",
        "exercise_6()\n",
        "\n",
        "\n",
        "\n"
      ],
      "execution_count": 0,
      "outputs": []
    }
  ]
}